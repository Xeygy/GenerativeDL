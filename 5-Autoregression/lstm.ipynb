{
 "cells": [
  {
   "cell_type": "markdown",
   "id": "db844254",
   "metadata": {
    "id": "MT6rDw3TgEQ-",
    "papermill": {
     "duration": 0.00675,
     "end_time": "2024-03-01T06:40:33.018147",
     "exception": false,
     "start_time": "2024-03-01T06:40:33.011397",
     "status": "completed"
    },
    "tags": []
   },
   "source": [
    "# LSTM\n",
    "Download the epirecipes dataset [here](https://www.kaggle.com/datasets/hugodarwood/epirecipes) and put it in `./data/`"
   ]
  },
  {
   "cell_type": "code",
   "execution_count": 1,
   "id": "43d5d17e",
   "metadata": {
    "execution": {
     "iopub.execute_input": "2024-03-01T06:40:33.032699Z",
     "iopub.status.busy": "2024-03-01T06:40:33.031902Z",
     "iopub.status.idle": "2024-03-01T06:40:40.339410Z",
     "shell.execute_reply": "2024-03-01T06:40:40.338622Z"
    },
    "id": "lixh-eaAgEQ_",
    "papermill": {
     "duration": 7.317323,
     "end_time": "2024-03-01T06:40:40.341826",
     "exception": false,
     "start_time": "2024-03-01T06:40:33.024503",
     "status": "completed"
    },
    "tags": []
   },
   "outputs": [],
   "source": [
    "# imports\n",
    "import torchvision.transforms as transforms\n",
    "import torchvision.datasets as datasets\n",
    "import torch\n",
    "import numpy as np\n",
    "import torch.nn as nn\n",
    "import torch.nn.functional as F\n",
    "import json\n",
    "import re\n",
    "import string\n",
    "from torchtext.data.utils import get_tokenizer\n",
    "from torchtext.vocab import build_vocab_from_iterator"
   ]
  },
  {
   "cell_type": "code",
   "execution_count": 2,
   "id": "b44ebf4c",
   "metadata": {
    "execution": {
     "iopub.execute_input": "2024-03-01T06:40:40.357118Z",
     "iopub.status.busy": "2024-03-01T06:40:40.356631Z",
     "iopub.status.idle": "2024-03-01T06:40:40.409385Z",
     "shell.execute_reply": "2024-03-01T06:40:40.408423Z"
    },
    "id": "Np2Gxp7_gERA",
    "outputId": "243b3208-7339-415a-c103-881340c65641",
    "papermill": {
     "duration": 0.061869,
     "end_time": "2024-03-01T06:40:40.411420",
     "exception": false,
     "start_time": "2024-03-01T06:40:40.349551",
     "status": "completed"
    },
    "tags": []
   },
   "outputs": [
    {
     "name": "stdout",
     "output_type": "stream",
     "text": [
      "cuda\n"
     ]
    }
   ],
   "source": [
    "device = \"cuda\" if torch.cuda.is_available() else \"cpu\"\n",
    "print(device)"
   ]
  },
  {
   "cell_type": "markdown",
   "id": "44cb97a8",
   "metadata": {
    "id": "SxUOL8B7gERB",
    "papermill": {
     "duration": 0.006246,
     "end_time": "2024-03-01T06:40:40.423986",
     "exception": false,
     "start_time": "2024-03-01T06:40:40.417740",
     "status": "completed"
    },
    "tags": []
   },
   "source": [
    "## Load and view data"
   ]
  },
  {
   "cell_type": "code",
   "execution_count": 3,
   "id": "b44abeaa",
   "metadata": {
    "execution": {
     "iopub.execute_input": "2024-03-01T06:40:40.437731Z",
     "iopub.status.busy": "2024-03-01T06:40:40.437457Z",
     "iopub.status.idle": "2024-03-01T06:40:41.613894Z",
     "shell.execute_reply": "2024-03-01T06:40:41.613097Z"
    },
    "id": "2QQ826B4gERB",
    "papermill": {
     "duration": 1.185908,
     "end_time": "2024-03-01T06:40:41.616203",
     "exception": false,
     "start_time": "2024-03-01T06:40:40.430295",
     "status": "completed"
    },
    "tags": []
   },
   "outputs": [],
   "source": [
    "with open('/kaggle/input/epirecipes/full_format_recipes.json') as json_data:\n",
    "    recipe_data = json.load(json_data)\n",
    "\n",
    "filtered_data = [\n",
    "    'Recipe for ' + x['title']+ ' | ' + ' '.join(x['directions'])\n",
    "    for x in recipe_data\n",
    "    if 'title' in x\n",
    "    and x['title'] is not None\n",
    "    and 'directions' in x\n",
    "    and x['directions'] is not None\n",
    "]"
   ]
  },
  {
   "cell_type": "code",
   "execution_count": 4,
   "id": "b90f85af",
   "metadata": {
    "execution": {
     "iopub.execute_input": "2024-03-01T06:40:41.630582Z",
     "iopub.status.busy": "2024-03-01T06:40:41.629928Z",
     "iopub.status.idle": "2024-03-01T06:40:41.634838Z",
     "shell.execute_reply": "2024-03-01T06:40:41.634048Z"
    },
    "id": "jfRXvEE8gERB",
    "outputId": "c0dd41cb-1163-41c0-e404-3491f31d6a96",
    "papermill": {
     "duration": 0.014129,
     "end_time": "2024-03-01T06:40:41.636986",
     "exception": false,
     "start_time": "2024-03-01T06:40:41.622857",
     "status": "completed"
    },
    "tags": []
   },
   "outputs": [
    {
     "name": "stdout",
     "output_type": "stream",
     "text": [
      "20111 recipes loaded\n",
      "Recipe for Ham Persillade with Mustard Potato Salad and Mashed Peas  | Chop enough parsley leaves to measure 1 tablespoon; reserve. Chop remaining leaves and stems and simmer with broth and garlic in a small saucepan, covered, 5 minutes. Meanwhile, sprinkle gelatin over water in a medium bowl and let soften 1 minute. Strain broth through a fine-mesh sieve into bowl with gelatin and stir to dissolve. Season with salt and pepper. Set bowl in an ice bath and cool to room temperature, stirring. Toss ham with reserved parsley and divide among jars. Pour gelatin on top and chill until set, at least 1 hour. Whisk together mayonnaise, mustard, vinegar, 1/4 teaspoon salt, and 1/4 teaspoon pepper in a large bowl. Stir in celery, cornichons, and potatoes. Pulse peas with marjoram, oil, 1/2 teaspoon pepper, and 1/4 teaspoon salt in a food processor to a coarse mash. Layer peas, then potato salad, over ham.\n"
     ]
    }
   ],
   "source": [
    "# Count the recipes\n",
    "n_recipes = len(filtered_data)\n",
    "print(f\"{n_recipes} recipes loaded\")\n",
    "example = filtered_data[9]\n",
    "print(example)"
   ]
  },
  {
   "cell_type": "markdown",
   "id": "ec145383",
   "metadata": {
    "id": "xJUwvb3qgERB",
    "papermill": {
     "duration": 0.006065,
     "end_time": "2024-03-01T06:40:41.649361",
     "exception": false,
     "start_time": "2024-03-01T06:40:41.643296",
     "status": "completed"
    },
    "tags": []
   },
   "source": [
    "## Tokenize input\n",
    "Lowercase word tokenization, no stemming, pad punctuation to tokenize punctuation."
   ]
  },
  {
   "cell_type": "code",
   "execution_count": 5,
   "id": "270cf046",
   "metadata": {
    "execution": {
     "iopub.execute_input": "2024-03-01T06:40:41.663334Z",
     "iopub.status.busy": "2024-03-01T06:40:41.662627Z",
     "iopub.status.idle": "2024-03-01T06:40:44.626873Z",
     "shell.execute_reply": "2024-03-01T06:40:44.626104Z"
    },
    "id": "ZfoRMYHKgERB",
    "papermill": {
     "duration": 2.973567,
     "end_time": "2024-03-01T06:40:44.629165",
     "exception": false,
     "start_time": "2024-03-01T06:40:41.655598",
     "status": "completed"
    },
    "tags": []
   },
   "outputs": [],
   "source": [
    "def pad_punctuation(str):\n",
    "    # add spaces before and after punctuation\n",
    "    str = re.sub(f\"([{string.punctuation}])\", r\" \\1 \", str)\n",
    "    # replace one or more spaces with one space\n",
    "    str = re.sub(' +', ' ', str)\n",
    "    return str\n",
    "\n",
    "text_data = [pad_punctuation(x) for x in filtered_data]\n",
    "text_data = [x.lower() for x in text_data]"
   ]
  },
  {
   "cell_type": "code",
   "execution_count": 6,
   "id": "8ad390e4",
   "metadata": {
    "execution": {
     "iopub.execute_input": "2024-03-01T06:40:44.643630Z",
     "iopub.status.busy": "2024-03-01T06:40:44.643328Z",
     "iopub.status.idle": "2024-03-01T06:40:45.463835Z",
     "shell.execute_reply": "2024-03-01T06:40:45.462885Z"
    },
    "id": "pt_TJp_lgERC",
    "papermill": {
     "duration": 0.830221,
     "end_time": "2024-03-01T06:40:45.466213",
     "exception": false,
     "start_time": "2024-03-01T06:40:44.635992",
     "status": "completed"
    },
    "tags": []
   },
   "outputs": [],
   "source": [
    "tokenizer = get_tokenizer(None)\n",
    "def yield_tokens(data_iter):\n",
    "    for text in data_iter:\n",
    "        yield tokenizer(text)\n",
    "\n",
    "vocab = build_vocab_from_iterator(\n",
    "    yield_tokens(iter(text_data)),\n",
    "    specials=[\"<stop>\", \"<unk>\"],\n",
    "    special_first=True,\n",
    "    max_tokens=10000\n",
    ")\n",
    "vocab.set_default_index(vocab['<unk>']) # set default unknown to <unk>"
   ]
  },
  {
   "cell_type": "code",
   "execution_count": 7,
   "id": "95c58266",
   "metadata": {
    "execution": {
     "iopub.execute_input": "2024-03-01T06:40:45.482682Z",
     "iopub.status.busy": "2024-03-01T06:40:45.481955Z",
     "iopub.status.idle": "2024-03-01T06:40:45.487137Z",
     "shell.execute_reply": "2024-03-01T06:40:45.486327Z"
    },
    "id": "oIeX5rDngERC",
    "outputId": "c236217d-8e86-43a3-f3c5-00e11224473d",
    "papermill": {
     "duration": 0.016098,
     "end_time": "2024-03-01T06:40:45.489139",
     "exception": false,
     "start_time": "2024-03-01T06:40:45.473041",
     "status": "completed"
    },
    "tags": []
   },
   "outputs": [
    {
     "name": "stdout",
     "output_type": "stream",
     "text": [
      "10000\n",
      "['<stop>', '<unk>', '.', ',', 'and', 'to', 'in', 'the', 'with', 'a']\n"
     ]
    }
   ],
   "source": [
    "print(len(vocab))\n",
    "text_to_vec = lambda x: vocab(tokenizer(x))\n",
    "print(vocab.lookup_tokens(range(0, 10)))"
   ]
  },
  {
   "cell_type": "markdown",
   "id": "5dcb642e",
   "metadata": {
    "id": "L-m39477gERC",
    "papermill": {
     "duration": 0.006113,
     "end_time": "2024-03-01T06:40:45.501668",
     "exception": false,
     "start_time": "2024-03-01T06:40:45.495555",
     "status": "completed"
    },
    "tags": []
   },
   "source": [
    "## Create the training dataset"
   ]
  },
  {
   "cell_type": "code",
   "execution_count": 8,
   "id": "5d5f9dc2",
   "metadata": {
    "execution": {
     "iopub.execute_input": "2024-03-01T06:40:45.515733Z",
     "iopub.status.busy": "2024-03-01T06:40:45.515118Z",
     "iopub.status.idle": "2024-03-01T06:40:45.522449Z",
     "shell.execute_reply": "2024-03-01T06:40:45.521605Z"
    },
    "id": "CsoEulFBgERD",
    "papermill": {
     "duration": 0.016541,
     "end_time": "2024-03-01T06:40:45.524436",
     "exception": false,
     "start_time": "2024-03-01T06:40:45.507895",
     "status": "completed"
    },
    "tags": []
   },
   "outputs": [],
   "source": [
    "MAX_SEQ_LEN = 200 + 1\n",
    "STOP = 0\n",
    "def pad_tokens(tok_list):\n",
    "    if len(tok_list) < MAX_SEQ_LEN:\n",
    "        return tok_list + [STOP for x in range(MAX_SEQ_LEN - len(tok_list))]\n",
    "    else:\n",
    "        return tok_list[:MAX_SEQ_LEN]\n",
    "\n",
    "def prepare_inputs(text):\n",
    "    tokenized_sentences = list(map(text_to_vec, text))\n",
    "    tokenized_sentences = list(map(pad_tokens, tokenized_sentences))\n",
    "    tokenized_sentences = torch.tensor(tokenized_sentences).to(device)\n",
    "    x = tokenized_sentences[:, :-1]\n",
    "    y = tokenized_sentences[:, 1:]\n",
    "    #print(vocab.lookup_tokens(x[8].tolist()))\n",
    "    #print(vocab.lookup_tokens(y[8].tolist()))\n",
    "    return x, y\n",
    "\n",
    "train_dataloader = torch.utils.data.DataLoader(\n",
    "    text_data,\n",
    "    batch_size=32,\n",
    "    shuffle=True,\n",
    "    collate_fn=prepare_inputs)"
   ]
  },
  {
   "cell_type": "markdown",
   "id": "ed6d6ffe",
   "metadata": {
    "id": "V6EnHsfcgERD",
    "papermill": {
     "duration": 0.006303,
     "end_time": "2024-03-01T06:40:45.757241",
     "exception": false,
     "start_time": "2024-03-01T06:40:45.750938",
     "status": "completed"
    },
    "tags": []
   },
   "source": [
    "## Build the LSTM"
   ]
  },
  {
   "cell_type": "code",
   "execution_count": 11,
   "id": "b14ff90d",
   "metadata": {
    "execution": {
     "iopub.execute_input": "2024-03-01T06:40:45.771572Z",
     "iopub.status.busy": "2024-03-01T06:40:45.770959Z",
     "iopub.status.idle": "2024-03-01T06:40:45.778813Z",
     "shell.execute_reply": "2024-03-01T06:40:45.777967Z"
    },
    "id": "90ByVjGQgERD",
    "papermill": {
     "duration": 0.017249,
     "end_time": "2024-03-01T06:40:45.780831",
     "exception": false,
     "start_time": "2024-03-01T06:40:45.763582",
     "status": "completed"
    },
    "tags": []
   },
   "outputs": [],
   "source": [
    "class TextGen(nn.Module):\n",
    "    def __init__(self):\n",
    "        super(TextGen, self).__init__()\n",
    "        self.embedding = nn.Embedding(10000, 100)\n",
    "        # default is to return sequences\n",
    "        self.lstm = nn.LSTM(100, hidden_size=128, num_layers=1, batch_first=True)\n",
    "        self.dense = nn.Linear(128, 10000)\n",
    "\n",
    "    def forward(self, x, batching=True):\n",
    "\n",
    "        # batch, seq_len -> batch, seq_len, emb_dim\n",
    "        x = self.embedding(x)\n",
    "\n",
    "        # batch, seq_len, emb_dim -> batch, seq_len, hidden\n",
    "        # h: num_layers, batch, hidden\n",
    "        # c: num_layers, batch, hidden\n",
    "\n",
    "        # note `output` is a tensor of updated hidden states for each\n",
    "        # timestep of the final lstm layer\n",
    "        output, (h,c) = self.lstm(x)\n",
    "\n",
    "        # batch, seq_len, hidden -> batch, seq_len, vocab_size\n",
    "        output = self.dense(output)\n",
    "        \n",
    "        '''\n",
    "        Note no need to softmax, as nn.CrossEntropyLoss defaults to reducing the \n",
    "        inputs (i.e. applying softmax) this is equivalent setting from_logits=True \n",
    "        in Tensorflow's loss. To use softmax, set reduction='none' in nn.CrossEntropyLoss().\n",
    "        \n",
    "        # softmax to make the last dim a probability thing\n",
    "        output = F.softmax(output, dim=2 if batching else 1)\n",
    "        '''\n",
    "\n",
    "        return output"
   ]
  },
  {
   "cell_type": "markdown",
   "id": "a69af77a",
   "metadata": {
    "id": "Rcx6BwOegERD",
    "papermill": {
     "duration": 0.006356,
     "end_time": "2024-03-01T06:40:45.793638",
     "exception": false,
     "start_time": "2024-03-01T06:40:45.787282",
     "status": "completed"
    },
    "tags": []
   },
   "source": [
    "## Train"
   ]
  },
  {
   "cell_type": "code",
   "execution_count": 12,
   "id": "a25b4df0",
   "metadata": {
    "execution": {
     "iopub.execute_input": "2024-03-01T06:40:45.808167Z",
     "iopub.status.busy": "2024-03-01T06:40:45.807493Z",
     "iopub.status.idle": "2024-03-01T06:40:45.816376Z",
     "shell.execute_reply": "2024-03-01T06:40:45.815580Z"
    },
    "id": "eTDqZrWMgERE",
    "outputId": "106e1e89-4dff-413d-97b0-d481c7ccc167",
    "papermill": {
     "duration": 0.018116,
     "end_time": "2024-03-01T06:40:45.818229",
     "exception": false,
     "start_time": "2024-03-01T06:40:45.800113",
     "status": "completed"
    },
    "tags": []
   },
   "outputs": [],
   "source": [
    "# utility function to sample a index given a vector of probs and a temp\n",
    "def sample_from(probs, temperature):\n",
    "        probs = probs.to('cpu').numpy()\n",
    "        probs = probs ** (1 / temperature)\n",
    "        probs = probs / np.sum(probs)\n",
    "        return np.random.choice(len(probs), p=probs), probs\n",
    "\n",
    "# generate and print a string using the model\n",
    "# of len max_tokens that starts with start_prompt\n",
    "def generate(model, start_prompt, max_tokens, temperature):\n",
    "    model.eval()\n",
    "\n",
    "    start_tokens = vocab.lookup_indices(tokenizer(pad_punctuation(start_prompt)))\n",
    "    start_tokens = torch.IntTensor(start_tokens).to(device)\n",
    "\n",
    "    next_token = None\n",
    "    info = []\n",
    "    while len(start_tokens) < max_tokens and next_token != 0:\n",
    "        x = start_tokens\n",
    "        y = model(x, batching=False)\n",
    "        y = F.softmax(y, dim=1)\n",
    "        with torch.no_grad():\n",
    "          next_token, probs = sample_from(y[-1], temperature)\n",
    "        info.append({\"prompt\": start_prompt, \"word_probs\": probs})\n",
    "        start_tokens = torch.cat(\n",
    "            (start_tokens, \n",
    "             torch.IntTensor([next_token]).to(device)))\n",
    "        start_prompt = start_prompt + \" \" + vocab.lookup_token(next_token)\n",
    "\n",
    "    print(f\"\\ngenerated text:\\n{start_prompt}\\n\")\n",
    "    return info"
   ]
  },
  {
   "cell_type": "code",
   "execution_count": 13,
   "id": "a0155512",
   "metadata": {
    "execution": {
     "iopub.execute_input": "2024-03-01T06:40:45.832421Z",
     "iopub.status.busy": "2024-03-01T06:40:45.831756Z",
     "iopub.status.idle": "2024-03-01T06:40:45.969808Z",
     "shell.execute_reply": "2024-03-01T06:40:45.968916Z"
    },
    "id": "XoSvPjQJgERE",
    "papermill": {
     "duration": 0.147773,
     "end_time": "2024-03-01T06:40:45.972361",
     "exception": false,
     "start_time": "2024-03-01T06:40:45.824588",
     "status": "completed"
    },
    "tags": []
   },
   "outputs": [],
   "source": [
    "model = TextGen().to(device)\n",
    "loss_fn = torch.nn.CrossEntropyLoss()\n",
    "optimizer = torch.optim.Adam(model.parameters())"
   ]
  },
  {
   "cell_type": "code",
   "execution_count": 14,
   "id": "dd92982d",
   "metadata": {
    "execution": {
     "iopub.execute_input": "2024-03-01T06:40:45.987242Z",
     "iopub.status.busy": "2024-03-01T06:40:45.986854Z",
     "iopub.status.idle": "2024-03-01T06:45:22.734662Z",
     "shell.execute_reply": "2024-03-01T06:45:22.733613Z"
    },
    "id": "E7YEu54pgERE",
    "papermill": {
     "duration": 276.757357,
     "end_time": "2024-03-01T06:45:22.736678",
     "exception": false,
     "start_time": "2024-03-01T06:40:45.979321",
     "status": "completed"
    },
    "tags": []
   },
   "outputs": [
    {
     "name": "stdout",
     "output_type": "stream",
     "text": [
      "Batch 620,loss 2.9773  [13.245162963867188, 6.15157413482666, 5.607677936553955, 5.401706218719482, 5.049145698547363]   [0, 2, 8, 3, 4]   \n",
      "Epoch:0, Train Loss:0.1110\n",
      "\n",
      "generated text:\n",
      "recipe for grilled chicken with salt and pepper | preheat oven to 350°f . place a large bowl to a boil , then add the the flour , and cook until golden brown , about 5 minutes . add the the flour , and the the mixture , stirring , until the water , about 3 minutes . add the the mixture and pepper . add the the onion , and pepper to taste , and cook until golden , about 5 minutes . add the water and cook , stirring , until golden brown , about 2 minutes .\n",
      "\n",
      "Batch 620,loss 2.3978  [6.1715407371521, 5.995326519012451, 5.327287673950195, 5.292455673217773, 5.2803263664245605]   [30, 274, 21, 0, 65]   \n",
      "Epoch:1, Train Loss:0.0787\n",
      "\n",
      "generated text:\n",
      "recipe for grilled chicken with tomato and garlic | preheat oven to 350°f . butter into a large bowl . add 1 / 2 cup water and simmer , stirring , until golden , about 2 minutes . add the garlic , and cook , stirring , until the mixture is tender , about 5 minutes . add the garlic , and the remaining 2 tablespoons butter and stir in the butter until the mixture is smooth . add the garlic and sauté until golden , about 5 minutes . add the mixture and sauté until golden brown , about\n",
      "\n",
      "Batch 620,loss 2.2557  [10.118078231811523, 6.92559289932251, 6.104960918426514, 5.37919282913208, 5.275473594665527]   [98, 1305, 384, 14, 36]   \n",
      "Epoch:2, Train Loss:0.0704\n",
      "\n",
      "generated text:\n",
      "recipe for <unk> ' s - style chicken | in a large bowl , combine the flour , the sugar , and salt and pepper to taste . add the oil and cook the mixture until the mixture is just cooked through , about 3 minutes . add the onions and the onion and cook , stirring , until the mixture is just tender , about 3 minutes . add the onion , the garlic , the garlic , the onion , the garlic , the garlic , the garlic , the oil , the cinnamon , and the garlic\n",
      "\n",
      "Batch 620,loss 2.0860  [15.948186874389648, 6.708632469177246, 6.5523762702941895, 6.481790542602539, 5.564507007598877]   [0, 8, 3, 2, 4]   \n",
      "Epoch:3, Train Loss:0.0656\n",
      "\n",
      "generated text:\n",
      "recipe for grilled chicken with tomato - and red pepper | preheat oven to 350°f . butter and butter a large bowl with a fork . in a large bowl , combine the flour , the flour , the sugar , the sugar , the sugar , the sugar , the sugar , the sugar , the sugar , the sugar , the sugar , the sugar , the sugar , the sugar , the salt , the sugar , the sugar , the salt , the sugar , the sugar , the sugar , the sugar , the sugar\n",
      "\n",
      "Batch 620,loss 2.3146  [5.567927360534668, 5.274121284484863, 5.093976020812988, 5.049245357513428, 4.9563422203063965]   [96, 14, 4, 794, 3]   \n",
      "Epoch:4, Train Loss:0.0622\n",
      "\n",
      "generated text:\n",
      "recipe for grilled chicken with lemon - and - ginger sauce | preheat oven to 350°f . butter a 9 - inch - diameter glass baking dish . place 1 rack in middle of oven and preheat to 350°f . line a rimmed baking sheet with parchment paper . place 1 / 2 cup sugar in a large bowl . add butter and pulse until smooth . add 1 / 4 cup water and stir until combined . transfer to a bowl . whisk together flour , and salt in a bowl . add 1 / 4 cup water and\n",
      "\n",
      "Batch 620,loss 1.6312  [16.794174194335938, 6.734809875488281, 6.5711212158203125, 6.471286296844482, 5.823938846588135]   [0, 3, 8, 2, 4]   \n",
      "Epoch:5, Train Loss:0.0598\n",
      "\n",
      "generated text:\n",
      "recipe for roasted red pepper and red pepper salad | in a large bowl , combine the flour , the garlic , the garlic , the salt , and pepper to taste . add the garlic and toss to coat . add the onion and cook until the onion is tender and the liquid is absorbed , about 2 minutes . add the broth and the broth and simmer , covered , for 1 minute . add the onions , the garlic , the garlic , the garlic , the cumin , and the garlic and cook the mixture over\n",
      "\n",
      "Batch 620,loss 1.8308  [17.222726821899414, 6.860407829284668, 6.468939781188965, 6.2781853675842285, 5.828042984008789]   [0, 3, 8, 2, 4]   \n",
      "Epoch:6, Train Loss:0.0580\n",
      "\n",
      "generated text:\n",
      "recipe for grilled chicken with tomato and garlic | preheat oven to 350°f . in a large heavy skillet cook onion and garlic in oil in a 12 - inch heavy skillet over moderate heat , stirring , until golden , about 5 minutes . add garlic and cook , stirring , until softened , about 5 minutes . add garlic and cook , stirring , until softened , about 3 minutes . add wine and cook , stirring , until softened , about 1 minute . add broth and cook , stirring , until softened , about 5 minutes\n",
      "\n",
      "Batch 620,loss 1.7661  [6.31350040435791, 6.236289024353027, 5.84025764465332, 5.837002754211426, 5.719179630279541]   [192, 43, 125, 60, 74]   \n",
      "Epoch:7, Train Loss:0.0566\n",
      "\n",
      "generated text:\n",
      "recipe for chicken with white wine and red bell pepper | in a large heavy saucepan heat oil over moderately high heat until hot but not smoking and cook onion , stirring , until golden brown , about 5 minutes . add garlic and cook , stirring , until softened , about 5 minutes . add onion and cook , stirring , until softened , about 5 minutes . add tomatoes and cook , stirring , until softened , about 2 minutes . add broth and cook , stirring , until softened , about 2 minutes . add broth and\n",
      "\n",
      "Batch 620,loss 1.7307  [17.754749298095703, 6.286779880523682, 5.964545726776123, 5.779432773590088, 5.515896797180176]   [0, 3, 8, 41, 4]   \n",
      "Epoch:8, Train Loss:0.0555\n",
      "\n",
      "generated text:\n",
      "recipe for chocolate - almond cake | preheat oven to 350°f . butter 9 - inch - diameter cake pans with 1 1 / 2 - inch - high sides . line bottom of pan with parchment paper . sift flour , baking powder , baking powder , baking soda , and salt in medium bowl . add butter and beat until smooth . add flour mixture and beat until smooth . add flour mixture and beat until smooth . add eggs 1 at a time , beating well after each addition . beat in eggs 1 at a time\n",
      "\n",
      "Batch 620,loss 1.7481  [17.964824676513672, 6.2634382247924805, 5.786935329437256, 5.626406669616699, 5.5841288566589355]   [0, 3, 41, 4, 8]   \n",
      "Epoch:9, Train Loss:0.0545\n",
      "\n",
      "generated text:\n",
      "recipe for roasted - style chicken | combine all ingredients in a large bowl . season with salt and pepper . ( can be made 1 day ahead . cover and chill . ) <stop>\n",
      "\n",
      "Batch 620,loss 1.6580  [18.224376678466797, 6.100269317626953, 5.850884914398193, 5.815114974975586, 5.729315757751465]   [0, 3, 8, 41, 4]   \n",
      "Epoch:10, Train Loss:0.0537\n",
      "\n",
      "generated text:\n",
      "recipe for grilled chicken with tomato and tomato sauce | in a large heavy skillet heat oil over moderate heat until hot but not smoking and cook onion , stirring , until golden , about 5 minutes . add garlic and cook , stirring , until softened , about 5 minutes . add tomatoes and cook , stirring , until wilted , about 3 minutes . add remaining 1 / 2 cup pasta cooking liquid and simmer , covered , stirring occasionally , until sauce is thickened , about 5 minutes . season with salt and pepper . <stop>\n",
      "\n",
      "Batch 620,loss 1.4629  [18.493810653686523, 6.039482116699219, 5.857151031494141, 5.709812641143799, 5.6467604637146]   [0, 3, 41, 8, 4]   \n",
      "Epoch:11, Train Loss:0.0529\n",
      "\n",
      "generated text:\n",
      "recipe for roasted red pepper and tomato salad | preheat oven to 450°f . in a large heavy skillet cook onion and garlic in oil over moderate heat , stirring , until fragrant , about 2 minutes . add garlic and cook , stirring , until softened , about 5 minutes . add wine and cook , stirring , until softened , about 5 minutes . add garlic and cook , stirring , until softened , about 5 minutes . add garlic and cook , stirring , until softened , about 5 minutes . add tomatoes with their juices and\n",
      "\n",
      "Batch 620,loss 1.4527  [18.452924728393555, 6.038968563079834, 5.8951096534729, 5.529959201812744, 5.4966559410095215]   [0, 41, 3, 4, 8]   \n",
      "Epoch:12, Train Loss:0.0523\n",
      "\n",
      "generated text:\n",
      "recipe for grilled chicken with lemon and bacon | preheat oven to 350°f . butter a 9 - inch square baking dish . heat oil in a 12 - inch heavy skillet over medium - high heat until hot but not smoking , then cook onion , stirring , until golden brown , about 5 minutes . add garlic and cook , stirring , until softened , about 5 minutes . add garlic and cook , stirring , until softened , about 5 minutes . add wine and cook , stirring , 3 minutes . add wine and simmer ,\n",
      "\n",
      "Batch 620,loss 1.6448  [9.172438621520996, 7.137633323669434, 6.803620338439941, 6.673730373382568, 6.442874431610107]   [3, 6, 8, 10, 20]   \n",
      "Epoch:13, Train Loss:0.0517\n",
      "\n",
      "generated text:\n",
      "recipe for grilled chicken with mustard - and - olive oil | preheat oven to 400°f . in a large heavy skillet heat oil over moderately high heat until hot but not smoking and cook onion , stirring , until golden , about 5 minutes . add garlic and cook , stirring , until softened , about 5 minutes . add garlic and cook , stirring , until softened , about 5 minutes . add garlic and cook , stirring , until softened , about 5 minutes . add tomatoes with their juices and cook , stirring , 1 minute\n",
      "\n",
      "Batch 620,loss 1.6276  [12.429163932800293, 12.073607444763184, 11.147628784179688, 10.80538558959961, 8.336834907531738]   [15, 36, 11, 32, 59]   \n",
      "Epoch:14, Train Loss:0.0512\n",
      "\n",
      "generated text:\n",
      "recipe for chicken and chicken salad with roasted peppers and garlic | preheat oven to 350°f . place garlic in a large bowl . add 1 / 2 cup oil and 1 / 2 teaspoon salt and 1 / 2 teaspoon pepper . heat oil in a 12 - inch heavy skillet over moderately high heat until hot but not smoking , then sauté onion , stirring , until golden , about 3 minutes . add garlic and cook , stirring , until softened , about 5 minutes . add tomatoes , 1 / 2 teaspoon salt , and 1\n",
      "\n",
      "Batch 620,loss 1.6165  [10.508213996887207, 8.300168991088867, 7.7715535163879395, 7.423210620880127, 6.843347549438477]   [0, 68, 304, 72, 268]   \n",
      "Epoch:15, Train Loss:0.0508\n",
      "\n",
      "generated text:\n",
      "recipe for roasted red pepper and - herb sauce | in a large bowl stir together the garlic , the vinegar , the vinegar , the salt , and pepper to taste . in a large bowl , combine the egg , the onion , the garlic , the salt , the pepper , the salt , the oil , and the salt and pepper to taste , and let the mixture stand for 30 minutes . in a large bowl , whisk together the flour , the flour , the baking powder , and the salt and pepper to\n",
      "\n",
      "Batch 620,loss 1.6614  [18.68910789489746, 5.593836784362793, 5.551636695861816, 5.058838367462158, 5.026410102844238]   [0, 4, 3, 55, 41]   \n",
      "Epoch:16, Train Loss:0.0504\n",
      "\n",
      "generated text:\n",
      "recipe for <unk> | combine all ingredients in a cocktail shaker and shake vigorously . strain into a cocktail glass . <stop>\n",
      "\n",
      "Batch 620,loss 1.6061  [9.147814750671387, 8.729653358459473, 8.151555061340332, 6.840376377105713, 6.83433723449707]   [67, 60, 97, 49, 186]   \n",
      "Epoch:17, Train Loss:0.0500\n",
      "\n",
      "generated text:\n",
      "recipe for <unk> | combine all ingredients in a cocktail shaker and shake vigorously . strain into a cocktail glass . <stop>\n",
      "\n",
      "Batch 620,loss 1.4921  [19.433082580566406, 5.562356472015381, 5.271794319152832, 5.167257785797119, 5.014277935028076]   [0, 4, 3, 17, 41]   \n",
      "Epoch:18, Train Loss:0.0496\n",
      "\n",
      "generated text:\n",
      "recipe for grilled chicken with lemon and tarragon | preheat oven to 450°f . place chicken , skin side up , on a rimmed baking sheet and roast until tender , about 1 hour . transfer to a large bowl and let stand , covered , 5 minutes . transfer to a large bowl and cool . in a large bowl stir together mayonnaise , mustard , and salt and pepper to taste . in a small bowl whisk together mayonnaise , mayonnaise , and salt and pepper to taste . <stop>\n",
      "\n",
      "Batch 620,loss 1.5789  [7.50627326965332, 7.2039265632629395, 7.079280376434326, 6.68488073348999, 6.45256233215332]   [192, 88, 97, 43, 74]   \n",
      "Epoch:19, Train Loss:0.0493\n",
      "\n",
      "generated text:\n",
      "recipe for chicken and mushroom soup | heat oil in heavy large pot over medium - high heat . add onion and sauté until tender , about 8 minutes . add garlic and sauté until tender , about 5 minutes . add broth and simmer until liquid is reduced to 1 1 / 2 cups , about 20 minutes . add broth and boil until reduced to 1 / 4 cup , about 2 minutes . season with salt and pepper . ( can be made 1 day ahead . cover and refrigerate . ) <stop>\n",
      "\n",
      "Batch 620,loss 1.6879  [19.782278060913086, 5.604307651519775, 5.409941673278809, 5.311304569244385, 5.215291500091553]   [0, 17, 3, 4, 41]   \n",
      "Epoch:20, Train Loss:0.0490\n",
      "\n",
      "generated text:\n",
      "recipe for grilled chicken with lemon and garlic | preheat oven to 400°f . place chicken in large roasting pan . pour enough oil to measure 1 / 2 cup to 1 / 2 cup . place turkey in large roasting pan . add enough water to cover by 1 inch . bring to boil . reduce heat to medium - low , cover , and simmer until tender , about 30 minutes . drain . place in medium bowl . add enough water to cover by 1 inch . bring to boil . reduce heat to medium - low\n",
      "\n",
      "Batch 620,loss 1.5200  [11.087008476257324, 8.82687759399414, 7.575107097625732, 7.202033042907715, 6.634625434875488]   [145, 76, 3, 787, 41]   \n",
      "Epoch:21, Train Loss:0.0487\n",
      "\n",
      "generated text:\n",
      "recipe for grilled chicken with lemon - and - herb sauce | preheat oven to 350°f . butter and flour two 9 - inch - diameter ovenproof skillet with nonstick spray . heat oil in heavy large skillet over medium - high heat . add onion and sauté until golden , about 5 minutes . add tomatoes and sauté until just tender , about 5 minutes . add tomatoes and broth and simmer until liquid is reduced to 1 / 2 cup , about 15 minutes . season with salt and pepper . ( can be made 1 day ahead\n",
      "\n",
      "Batch 620,loss 1.5087  [19.909732818603516, 5.744202613830566, 5.413920879364014, 4.866235733032227, 4.7407450675964355]   [0, 17, 92, 41, 4]   \n",
      "Epoch:22, Train Loss:0.0484\n",
      "\n",
      "generated text:\n",
      "recipe for grilled chicken with lemon and garlic | preheat oven to 400°f . place beans in large pot . add enough water to cover by 2 inches . bring to boil . reduce heat to medium - low . cover and simmer until vegetables are tender , about 15 minutes . transfer to bowl . add 1 tablespoon oil to skillet ; stir over medium heat until brown and crisp , about 5 minutes . transfer to bowl . add 1 tablespoon oil to skillet ; sauté until crisp - tender , about 4 minutes . transfer to bowl\n",
      "\n",
      "Batch 620,loss 1.6611  [8.003549575805664, 7.228487014770508, 7.162519931793213, 6.572226047515869, 6.478591442108154]   [171, 249, 182, 15, 236]   \n",
      "Epoch:23, Train Loss:0.0482\n",
      "\n",
      "generated text:\n",
      "recipe for <unk> | combine all ingredients in a cocktail shaker and shake vigorously . strain into a cocktail glass . <stop>\n",
      "\n",
      "Batch 620,loss 1.5255  [9.844700813293457, 9.649640083312988, 9.270756721496582, 7.586061477661133, 7.532172679901123]   [2, 4, 3, 793, 2585]   \n",
      "Epoch:24, Train Loss:0.0479\n",
      "\n",
      "generated text:\n",
      "recipe for chicken with tomato and garlic | preheat oven to 350°f . heat oil in heavy large skillet over medium - high heat . add onions and sauté until golden , about 5 minutes . add garlic and sauté until tender , about 5 minutes . add garlic and sauté until tender , about 5 minutes . add tomatoes , 1 / 2 cup water , and 1 / 2 cup water . bring to boil . reduce heat to medium - low and simmer until liquid is reduced to 1 / 2 cup , about 1 hour .\n",
      "\n"
     ]
    }
   ],
   "source": [
    "epochs = 25\n",
    "for epoch in range(epochs):\n",
    "    batch_num = 0\n",
    "    train_loss = 0\n",
    "    model.train()\n",
    "    for curr, target in train_dataloader:\n",
    "        batch_size = curr.shape[0]\n",
    "        seq_len = curr.shape[1]\n",
    "        \n",
    "        # curr [32, 200], pred [32, 200, 10000]\n",
    "        pred = model(curr)\n",
    "        cache_p = pred\n",
    "        # CE loss expects n x c for predicted values, where C is a list of probabilities\n",
    "        # so we need to reshape our [batch, seq, vocab] into [batch * seq, vocab]\n",
    "        pred = pred.reshape(batch_size * seq_len, -1)\n",
    "        target = target.reshape(-1)\n",
    "        \n",
    "        loss = loss_fn(pred, target) \n",
    "        optimizer.zero_grad() # reset gradients\n",
    "        loss.backward()\n",
    "        optimizer.step()\n",
    "\n",
    "        if batch_num % 10 == 0:\n",
    "            print(f\"\\rBatch {batch_num},loss {loss:.4f}\", end='')\n",
    "            print(\" \", torch.topk(cache_p[8][-1], 5).values.tolist(), \" \",torch.topk(cache_p[8][-1], 5).indices.tolist(), end='   ')\n",
    "        batch_num += 1\n",
    "        train_loss += loss \n",
    "    train_loss /= len(train_dataloader.dataset)\n",
    "\n",
    "    print(f'\\nEpoch:{epoch}, Train Loss:{train_loss:.4f}')\n",
    "    generate(model, \"recipe for\", 100, .2)"
   ]
  },
  {
   "cell_type": "markdown",
   "id": "e78d1833",
   "metadata": {
    "papermill": {
     "duration": 0.070329,
     "end_time": "2024-03-01T06:45:22.877566",
     "exception": false,
     "start_time": "2024-03-01T06:45:22.807237",
     "status": "completed"
    },
    "tags": []
   },
   "source": [
    "## save model"
   ]
  },
  {
   "cell_type": "code",
   "execution_count": 15,
   "id": "9cf9f8dd",
   "metadata": {
    "execution": {
     "iopub.execute_input": "2024-03-01T06:45:23.064172Z",
     "iopub.status.busy": "2024-03-01T06:45:23.063807Z",
     "iopub.status.idle": "2024-03-01T06:45:23.097678Z",
     "shell.execute_reply": "2024-03-01T06:45:23.096799Z"
    },
    "papermill": {
     "duration": 0.10806,
     "end_time": "2024-03-01T06:45:23.099743",
     "exception": false,
     "start_time": "2024-03-01T06:45:22.991683",
     "status": "completed"
    },
    "tags": []
   },
   "outputs": [
    {
     "data": {
      "text/plain": [
       "<All keys matched successfully>"
      ]
     },
     "execution_count": 15,
     "metadata": {},
     "output_type": "execute_result"
    }
   ],
   "source": [
    "torch.save(model.state_dict(), \"lstm\")\n",
    "checkpoint = torch.load(\"lstm\", map_location=device)\n",
    "model.load_state_dict(checkpoint)"
   ]
  },
  {
   "cell_type": "code",
   "execution_count": 16,
   "id": "d054d77d",
   "metadata": {
    "execution": {
     "iopub.execute_input": "2024-03-01T06:45:23.242805Z",
     "iopub.status.busy": "2024-03-01T06:45:23.242463Z",
     "iopub.status.idle": "2024-03-01T06:45:23.656962Z",
     "shell.execute_reply": "2024-03-01T06:45:23.656008Z"
    },
    "papermill": {
     "duration": 0.488154,
     "end_time": "2024-03-01T06:45:23.659159",
     "exception": false,
     "start_time": "2024-03-01T06:45:23.171005",
     "status": "completed"
    },
    "tags": []
   },
   "outputs": [
    {
     "name": "stdout",
     "output_type": "stream",
     "text": [
      "\n",
      "generated text:\n",
      "recipe for chicken noodle soup with dried tomatoes and basil | cook onion in oil in a 12 - inch heavy skillet over moderate heat , stirring occasionally , until golden , about 5 minutes . add garlic and cook , stirring , 1 minute . add tomatoes and cook , stirring , 1 minute . add tomatoes , 1 / 2 cup water , and 1 / 4 teaspoon salt and cook , stirring , 1 minute . add wine and boil until reduced by half , about 2 minutes . add broth , water , and 1 /\n",
      "\n",
      "\n",
      "generated text:\n",
      "recipe for chicken noodle soup | 1 . place the pork in a food processor or blender , using an immersion small to 2 - to 3 - quart strainer . place in a bowl , squeezing small dry - towel - lined cup of steamer rack to cover and continue cooking , covered , over gas or charcoal , about 1 hour for 8 hours . meanwhile , cut all over direct heat with cooking spray , discard bay leaves , being careful as fuji as possible , then discard the stem and flesh of salt . 2 .\n",
      "\n",
      "\n",
      "generated text:\n",
      "recipe for Martha's coq au vin casserole | 1 . place the chicken in a large bowl . add the garlic and stir to combine . add the remaining ingredients and stir well . add the chicken and stir to coat the chicken . cover the fish with the lid and cook for about 2 minutes . on a plate , remove the chicken from the chicken and let cool . <stop>\n",
      "\n"
     ]
    }
   ],
   "source": [
    "generate(model, \"recipe for chicken noodle soup\", 100, .2)\n",
    "generate(model, \"recipe for chicken noodle soup\", 100, 1);\n",
    "generate(model, \"recipe for Martha's coq au vin casserole\", 200, .3);"
   ]
  }
 ],
 "metadata": {
  "colab": {
   "provenance": []
  },
  "kaggle": {
   "accelerator": "gpu",
   "dataSources": [
    {
     "datasetId": 588,
     "sourceId": 1569,
     "sourceType": "datasetVersion"
    }
   ],
   "dockerImageVersionId": 30664,
   "isGpuEnabled": true,
   "isInternetEnabled": true,
   "language": "python",
   "sourceType": "notebook"
  },
  "kernelspec": {
   "display_name": "Python 3",
   "language": "python",
   "name": "python3"
  },
  "language_info": {
   "codemirror_mode": {
    "name": "ipython",
    "version": 3
   },
   "file_extension": ".py",
   "mimetype": "text/x-python",
   "name": "python",
   "nbconvert_exporter": "python",
   "pygments_lexer": "ipython3",
   "version": "3.8.9"
  },
  "papermill": {
   "default_parameters": {},
   "duration": 295.090845,
   "end_time": "2024-03-01T06:45:25.455847",
   "environment_variables": {},
   "exception": null,
   "input_path": "__notebook__.ipynb",
   "output_path": "__notebook__.ipynb",
   "parameters": {},
   "start_time": "2024-03-01T06:40:30.365002",
   "version": "2.5.0"
  }
 },
 "nbformat": 4,
 "nbformat_minor": 5
}
