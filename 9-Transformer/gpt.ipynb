{
 "cells": [
  {
   "cell_type": "markdown",
   "id": "4ffda83e",
   "metadata": {},
   "source": [
    "# A decoder transformer model for wine reviews\n",
    "https://www.kaggle.com/datasets/zynicide/wine-reviews"
   ]
  },
  {
   "cell_type": "code",
   "execution_count": 1,
   "id": "adcdde5c",
   "metadata": {
    "_cell_guid": "b1076dfc-b9ad-4769-8c92-a6c4dae69d19",
    "_uuid": "8f2839f25d086af736a60e9eeb907d3b93b6e0e5",
    "execution": {
     "iopub.execute_input": "2024-03-10T01:21:25.440332Z",
     "iopub.status.busy": "2024-03-10T01:21:25.439699Z",
     "iopub.status.idle": "2024-03-10T01:21:33.288742Z",
     "shell.execute_reply": "2024-03-10T01:21:33.287900Z"
    },
    "papermill": {
     "duration": 7.861649,
     "end_time": "2024-03-10T01:21:33.291118",
     "exception": false,
     "start_time": "2024-03-10T01:21:25.429469",
     "status": "completed"
    },
    "tags": []
   },
   "outputs": [],
   "source": [
    "# imports\n",
    "import torchvision.transforms as transforms\n",
    "import torchvision.datasets as datasets\n",
    "import torch\n",
    "import numpy as np\n",
    "import torch.nn as nn\n",
    "import torch.nn.functional as F\n",
    "import json\n",
    "import re\n",
    "import string\n",
    "from torchtext.data.utils import get_tokenizer\n",
    "from torchtext.vocab import build_vocab_from_iterator"
   ]
  },
  {
   "cell_type": "code",
   "execution_count": 2,
   "id": "73feb43f",
   "metadata": {
    "execution": {
     "iopub.execute_input": "2024-03-10T01:21:33.310495Z",
     "iopub.status.busy": "2024-03-10T01:21:33.310000Z",
     "iopub.status.idle": "2024-03-10T01:21:33.365557Z",
     "shell.execute_reply": "2024-03-10T01:21:33.364488Z"
    },
    "papermill": {
     "duration": 0.068096,
     "end_time": "2024-03-10T01:21:33.368040",
     "exception": false,
     "start_time": "2024-03-10T01:21:33.299944",
     "status": "completed"
    },
    "tags": []
   },
   "outputs": [
    {
     "name": "stdout",
     "output_type": "stream",
     "text": [
      "cuda\n"
     ]
    }
   ],
   "source": [
    "device = \"cuda\" if torch.cuda.is_available() else \"cpu\"\n",
    "print(device)"
   ]
  },
  {
   "cell_type": "markdown",
   "id": "678f3754",
   "metadata": {
    "papermill": {
     "duration": 0.00811,
     "end_time": "2024-03-10T01:21:33.384508",
     "exception": false,
     "start_time": "2024-03-10T01:21:33.376398",
     "status": "completed"
    },
    "tags": []
   },
   "source": [
    "## Load the wine reviews data"
   ]
  },
  {
   "cell_type": "code",
   "execution_count": 3,
   "id": "515dad7c",
   "metadata": {
    "execution": {
     "iopub.execute_input": "2024-03-10T01:21:33.402099Z",
     "iopub.status.busy": "2024-03-10T01:21:33.401767Z",
     "iopub.status.idle": "2024-03-10T01:21:35.953385Z",
     "shell.execute_reply": "2024-03-10T01:21:35.952495Z"
    },
    "papermill": {
     "duration": 2.563154,
     "end_time": "2024-03-10T01:21:35.955731",
     "exception": false,
     "start_time": "2024-03-10T01:21:33.392577",
     "status": "completed"
    },
    "tags": []
   },
   "outputs": [],
   "source": [
    "with open('data/wine-reviews/winemag-data-130k-v2.json') as json_data:\n",
    "    wine_data = json.load(json_data)\n",
    "\n",
    "# Filter the dataset\n",
    "filtered_data = [\n",
    "    \"wine review | \"\n",
    "    + x[\"variety\"]\n",
    "    + \" from \"\n",
    "    + x[\"province\"]\n",
    "    + \", \"\n",
    "    + x[\"country\"]\n",
    "    + \": \"\n",
    "    + x[\"description\"]\n",
    "    for x in wine_data\n",
    "    if x[\"country\"] is not None\n",
    "    and x[\"province\"] is not None\n",
    "    and x[\"variety\"] is not None\n",
    "    and x[\"description\"] is not None\n",
    "]"
   ]
  },
  {
   "cell_type": "code",
   "execution_count": 4,
   "id": "5324ceae",
   "metadata": {
    "execution": {
     "iopub.execute_input": "2024-03-10T01:21:35.973941Z",
     "iopub.status.busy": "2024-03-10T01:21:35.973639Z",
     "iopub.status.idle": "2024-03-10T01:21:35.978333Z",
     "shell.execute_reply": "2024-03-10T01:21:35.977523Z"
    },
    "papermill": {
     "duration": 0.016448,
     "end_time": "2024-03-10T01:21:35.980858",
     "exception": false,
     "start_time": "2024-03-10T01:21:35.964410",
     "status": "completed"
    },
    "tags": []
   },
   "outputs": [
    {
     "name": "stdout",
     "output_type": "stream",
     "text": [
      "129907 recipes loaded\n",
      "wine review | Pinot Noir from California, US: Oak and earth intermingle around robust aromas of wet forest floor in this vineyard-designated Pinot that hails from a high-elevation site. Small in production, it offers intense, full-bodied raspberry and blackberry steeped in smoky spice and smooth texture.\n"
     ]
    }
   ],
   "source": [
    "n_recipes = len(filtered_data)\n",
    "print(f\"{n_recipes} recipes loaded\")\n",
    "example = filtered_data[25]\n",
    "print(example)"
   ]
  },
  {
   "cell_type": "markdown",
   "id": "5dba954f",
   "metadata": {
    "papermill": {
     "duration": 0.008004,
     "end_time": "2024-03-10T01:21:35.997279",
     "exception": false,
     "start_time": "2024-03-10T01:21:35.989275",
     "status": "completed"
    },
    "tags": []
   },
   "source": [
    "## Process and Tokenize data"
   ]
  },
  {
   "cell_type": "code",
   "execution_count": 5,
   "id": "042f624f",
   "metadata": {
    "execution": {
     "iopub.execute_input": "2024-03-10T01:21:36.016561Z",
     "iopub.status.busy": "2024-03-10T01:21:36.015969Z",
     "iopub.status.idle": "2024-03-10T01:21:42.544098Z",
     "shell.execute_reply": "2024-03-10T01:21:42.543145Z"
    },
    "papermill": {
     "duration": 6.540186,
     "end_time": "2024-03-10T01:21:42.546738",
     "exception": false,
     "start_time": "2024-03-10T01:21:36.006552",
     "status": "completed"
    },
    "tags": []
   },
   "outputs": [],
   "source": [
    "def pad_punctuation(str):\n",
    "    # add spaces before and after punctuation\n",
    "    str = re.sub(f\"([{string.punctuation}])\", r\" \\1 \", str)\n",
    "    # replace one or more spaces with one space\n",
    "    str = re.sub(' +', ' ', str)\n",
    "    return str\n",
    "\n",
    "text_data = [pad_punctuation(x) for x in filtered_data]\n",
    "text_data = [x.lower() for x in text_data]"
   ]
  },
  {
   "cell_type": "code",
   "execution_count": 6,
   "id": "9c228a3d",
   "metadata": {
    "execution": {
     "iopub.execute_input": "2024-03-10T01:21:42.567979Z",
     "iopub.status.busy": "2024-03-10T01:21:42.567662Z",
     "iopub.status.idle": "2024-03-10T01:21:44.294666Z",
     "shell.execute_reply": "2024-03-10T01:21:44.293842Z"
    },
    "papermill": {
     "duration": 1.740099,
     "end_time": "2024-03-10T01:21:44.297011",
     "exception": false,
     "start_time": "2024-03-10T01:21:42.556912",
     "status": "completed"
    },
    "tags": []
   },
   "outputs": [],
   "source": [
    "# default tokenizer just splits by spaces\n",
    "tokenizer = get_tokenizer(None)\n",
    "def yield_tokens(data_iter):\n",
    "    for text in data_iter:\n",
    "        yield tokenizer(text)\n",
    "\n",
    "vocab = build_vocab_from_iterator(\n",
    "    yield_tokens(iter(text_data)),\n",
    "    specials=[\"<stop>\", \"<unk>\"],\n",
    "    special_first=True,\n",
    "    max_tokens=10000\n",
    ")\n",
    "vocab.set_default_index(vocab['<unk>']) # set default unknown to <unk>"
   ]
  },
  {
   "cell_type": "code",
   "execution_count": 7,
   "id": "1dae2029",
   "metadata": {
    "execution": {
     "iopub.execute_input": "2024-03-10T01:21:44.315547Z",
     "iopub.status.busy": "2024-03-10T01:21:44.314974Z",
     "iopub.status.idle": "2024-03-10T01:21:44.320056Z",
     "shell.execute_reply": "2024-03-10T01:21:44.319154Z"
    },
    "papermill": {
     "duration": 0.016723,
     "end_time": "2024-03-10T01:21:44.322426",
     "exception": false,
     "start_time": "2024-03-10T01:21:44.305703",
     "status": "completed"
    },
    "tags": []
   },
   "outputs": [
    {
     "name": "stdout",
     "output_type": "stream",
     "text": [
      "10000\n",
      "['<stop>', '<unk>', ',', '.', 'and', 'the', 'wine', 'a', 'of', 'from']\n"
     ]
    }
   ],
   "source": [
    "print(len(vocab))\n",
    "text_to_vec = lambda x: vocab(tokenizer(x))\n",
    "print(vocab.lookup_tokens(range(0, 10)))"
   ]
  },
  {
   "cell_type": "markdown",
   "id": "af9c6d77",
   "metadata": {
    "papermill": {
     "duration": 0.008696,
     "end_time": "2024-03-10T01:21:44.339463",
     "exception": false,
     "start_time": "2024-03-10T01:21:44.330767",
     "status": "completed"
    },
    "tags": []
   },
   "source": [
    "## Create dataset"
   ]
  },
  {
   "cell_type": "code",
   "execution_count": 8,
   "id": "46512d17",
   "metadata": {
    "execution": {
     "iopub.execute_input": "2024-03-10T01:21:44.357515Z",
     "iopub.status.busy": "2024-03-10T01:21:44.357227Z",
     "iopub.status.idle": "2024-03-10T01:21:44.364939Z",
     "shell.execute_reply": "2024-03-10T01:21:44.364068Z"
    },
    "papermill": {
     "duration": 0.01909,
     "end_time": "2024-03-10T01:21:44.366850",
     "exception": false,
     "start_time": "2024-03-10T01:21:44.347760",
     "status": "completed"
    },
    "tags": []
   },
   "outputs": [],
   "source": [
    "MAX_SEQ_LEN = 80 + 1\n",
    "STOP = 0\n",
    "def pad_tokens(tok_list):\n",
    "    if len(tok_list) < MAX_SEQ_LEN:\n",
    "        return tok_list + [STOP for x in range(MAX_SEQ_LEN - len(tok_list))]\n",
    "    else:\n",
    "        return tok_list[:MAX_SEQ_LEN]\n",
    "\n",
    "def prepare_inputs(text):\n",
    "    tokenized_sentences = list(map(text_to_vec, text))\n",
    "    tokenized_sentences = list(map(pad_tokens, tokenized_sentences))\n",
    "    tokenized_sentences = torch.tensor(tokenized_sentences).to(device)\n",
    "    x = tokenized_sentences[:, :-1]\n",
    "    y = tokenized_sentences[:, 1:]\n",
    "    return x, y\n",
    "\n",
    "train_dataloader = torch.utils.data.DataLoader(\n",
    "    text_data,\n",
    "    batch_size=32,\n",
    "    shuffle=True,\n",
    "    collate_fn=prepare_inputs)"
   ]
  },
  {
   "cell_type": "code",
   "execution_count": 9,
   "id": "dcc3eea1",
   "metadata": {
    "execution": {
     "iopub.execute_input": "2024-03-10T01:21:44.384886Z",
     "iopub.status.busy": "2024-03-10T01:21:44.384574Z",
     "iopub.status.idle": "2024-03-10T01:21:44.592385Z",
     "shell.execute_reply": "2024-03-10T01:21:44.591340Z"
    },
    "papermill": {
     "duration": 0.219135,
     "end_time": "2024-03-10T01:21:44.594546",
     "exception": false,
     "start_time": "2024-03-10T01:21:44.375411",
     "status": "completed"
    },
    "tags": []
   },
   "outputs": [
    {
     "name": "stdout",
     "output_type": "stream",
     "text": [
      "tensor([   6,   11,   12,   26,   29,    9,  104,    2,   22,   10,   53,  798,\n",
      "          29,    8,   93,    2,  101,    2,  287,    4, 1453,    2,   14,    6,\n",
      "          76,   24,   16,  342,   28,    8,   98,    4,   68,   27,  173,   21,\n",
      "         524,   24,   18,    2,   13,  259,  558,   35, 1227,  653,    3,    0,\n",
      "           0,    0,    0,    0,    0,    0,    0,    0,    0,    0,    0,    0,\n",
      "           0,    0,    0,    0,    0,    0,    0,    0,    0,    0,    0,    0,\n",
      "           0,    0,    0,    0,    0,    0,    0,    0], device='cuda:0') \n",
      " tensor([  11,   12,   26,   29,    9,  104,    2,   22,   10,   53,  798,   29,\n",
      "           8,   93,    2,  101,    2,  287,    4, 1453,    2,   14,    6,   76,\n",
      "          24,   16,  342,   28,    8,   98,    4,   68,   27,  173,   21,  524,\n",
      "          24,   18,    2,   13,  259,  558,   35, 1227,  653,    3,    0,    0,\n",
      "           0,    0,    0,    0,    0,    0,    0,    0,    0,    0,    0,    0,\n",
      "           0,    0,    0,    0,    0,    0,    0,    0,    0,    0,    0,    0,\n",
      "           0,    0,    0,    0,    0,    0,    0,    0], device='cuda:0')\n"
     ]
    }
   ],
   "source": [
    "x, y  = next(iter(train_dataloader))\n",
    "# notice that y is just every token shifted over by one\n",
    "print(x[0], \"\\n\", y[0])"
   ]
  },
  {
   "cell_type": "markdown",
   "id": "2d0f03da",
   "metadata": {
    "papermill": {
     "duration": 0.008654,
     "end_time": "2024-03-10T01:21:44.611878",
     "exception": false,
     "start_time": "2024-03-10T01:21:44.603224",
     "status": "completed"
    },
    "tags": []
   },
   "source": [
    "## Create the causal attention mask function"
   ]
  },
  {
   "cell_type": "code",
   "execution_count": 10,
   "id": "1f975241",
   "metadata": {
    "execution": {
     "iopub.execute_input": "2024-03-10T01:21:44.630542Z",
     "iopub.status.busy": "2024-03-10T01:21:44.629848Z",
     "iopub.status.idle": "2024-03-10T01:21:44.667682Z",
     "shell.execute_reply": "2024-03-10T01:21:44.666822Z"
    },
    "papermill": {
     "duration": 0.04948,
     "end_time": "2024-03-10T01:21:44.669737",
     "exception": false,
     "start_time": "2024-03-10T01:21:44.620257",
     "status": "completed"
    },
    "tags": []
   },
   "outputs": [
    {
     "data": {
      "text/plain": [
       "tensor([[0, 0, 0, 0, 0, 0, 0, 0, 0, 0],\n",
       "        [1, 0, 0, 0, 0, 0, 0, 0, 0, 0],\n",
       "        [1, 1, 0, 0, 0, 0, 0, 0, 0, 0],\n",
       "        [1, 1, 1, 0, 0, 0, 0, 0, 0, 0],\n",
       "        [1, 1, 1, 1, 0, 0, 0, 0, 0, 0],\n",
       "        [1, 1, 1, 1, 1, 0, 0, 0, 0, 0],\n",
       "        [1, 1, 1, 1, 1, 1, 0, 0, 0, 0],\n",
       "        [1, 1, 1, 1, 1, 1, 1, 0, 0, 0],\n",
       "        [1, 1, 1, 1, 1, 1, 1, 1, 0, 0],\n",
       "        [1, 1, 1, 1, 1, 1, 1, 1, 1, 0]], dtype=torch.uint8)"
      ]
     },
     "execution_count": 10,
     "metadata": {},
     "output_type": "execute_result"
    }
   ],
   "source": [
    "def causal_attention_mask(n_dest, n_src, dtype):\n",
    "    i = torch.arange(0, n_dest)[:, None] # num rows\n",
    "    j = torch.arange(0, n_src)           # num cols\n",
    "    # note we flip the inequality that's in the book because\n",
    "    # torch's MHA expects `true` to be masked\n",
    "    m = i < j - n_src + n_dest         \n",
    "    mask = m.to(dtype)\n",
    "    # note torch broadcasts automatically, so no need to add an extra batch dim\n",
    "    # mask = torch.reshape(mask, (1, n_dest, n_src)) # add extra dim for batch\n",
    "    # mult = [batch_size, 1, 1]\n",
    "    return mask\n",
    "\n",
    "np.transpose(causal_attention_mask(10, 10, dtype=torch.bool))"
   ]
  },
  {
   "cell_type": "markdown",
   "id": "70b3645f",
   "metadata": {
    "papermill": {
     "duration": 0.008299,
     "end_time": "2024-03-10T01:21:44.687104",
     "exception": false,
     "start_time": "2024-03-10T01:21:44.678805",
     "status": "completed"
    },
    "tags": []
   },
   "source": [
    "## Create a transformer block\n",
    "Note that pytorch actually has a [transformer layer](https://pytorch.org/docs/stable/generated/torch.nn.Transformer.html) for plug-and-play use."
   ]
  },
  {
   "cell_type": "code",
   "execution_count": 11,
   "id": "cd6256fd",
   "metadata": {
    "execution": {
     "iopub.execute_input": "2024-03-10T01:21:44.705708Z",
     "iopub.status.busy": "2024-03-10T01:21:44.705408Z",
     "iopub.status.idle": "2024-03-10T01:21:44.716471Z",
     "shell.execute_reply": "2024-03-10T01:21:44.715587Z"
    },
    "papermill": {
     "duration": 0.022703,
     "end_time": "2024-03-10T01:21:44.718359",
     "exception": false,
     "start_time": "2024-03-10T01:21:44.695656",
     "status": "completed"
    },
    "tags": []
   },
   "outputs": [],
   "source": [
    "class TransformerBlock(nn.Module):\n",
    "    def __init__(self, num_heads, key_dim, embed_dim, ff_dim, dropout_rate=0.1):\n",
    "        super(TransformerBlock, self).__init__()\n",
    "        self.num_heads = num_heads\n",
    "        self.key_dim = key_dim\n",
    "        self.embed_dim = embed_dim\n",
    "        self.ff_dim = ff_dim\n",
    "        self.dropout_rate = dropout_rate\n",
    "        \n",
    "        # returns output of shape (batch, seq_len, emb_dim)\n",
    "        # does value_dim*num_heads = embed dim?\n",
    "        self.attn = nn.MultiheadAttention(\n",
    "            embed_dim=embed_dim,\n",
    "            num_heads=num_heads,\n",
    "            kdim=key_dim,\n",
    "            batch_first=True\n",
    "        )\n",
    "        self.dropout1 = nn.Dropout(self.dropout_rate)\n",
    "        # normalize only over the embedding dimention\n",
    "        self.ln1 = nn.LayerNorm(embed_dim, eps=1e-6)\n",
    "        self.ffn1 = nn.Linear(\n",
    "            in_features=embed_dim,\n",
    "            out_features=ff_dim,\n",
    "        )\n",
    "        self.ffn2 = nn.Linear(\n",
    "            in_features=ff_dim,\n",
    "            out_features=embed_dim,\n",
    "        )\n",
    "        self.dropout2 = nn.Dropout(self.dropout_rate)\n",
    "        self.ln2 = nn.LayerNorm(embed_dim, eps=1e-6)\n",
    "\n",
    "        \n",
    "    def forward(self, x):\n",
    "        batch_size, seq_len = x.shape[0], x.shape[1]\n",
    "        causal_mask = causal_attention_mask(\n",
    "            seq_len, seq_len, dtype=torch.bool\n",
    "        ).to(device)\n",
    "        attn_out, attn_out_weights = self.attn(\n",
    "            query=x,\n",
    "            key=x,\n",
    "            value=x,\n",
    "            attn_mask=causal_mask\n",
    "        )\n",
    "        attn_out = self.dropout1(attn_out)\n",
    "        out1 = self.ln1(x + attn_out)\n",
    "        ffn_1 = F.relu(self.ffn1(out1))\n",
    "        ffn_2 = self.ffn2(ffn_1)\n",
    "        ffn_out = self.dropout2(ffn_2)\n",
    "        return self.ln2(out1 + ffn_out), attn_out_weights"
   ]
  },
  {
   "cell_type": "markdown",
   "id": "3a7ca1f6",
   "metadata": {
    "papermill": {
     "duration": 0.008482,
     "end_time": "2024-03-10T01:21:44.735246",
     "exception": false,
     "start_time": "2024-03-10T01:21:44.726764",
     "status": "completed"
    },
    "tags": []
   },
   "source": [
    "## Build the Token and Position Embedding"
   ]
  },
  {
   "cell_type": "code",
   "execution_count": 12,
   "id": "f05653f3",
   "metadata": {
    "execution": {
     "iopub.execute_input": "2024-03-10T01:21:44.753910Z",
     "iopub.status.busy": "2024-03-10T01:21:44.753183Z",
     "iopub.status.idle": "2024-03-10T01:21:44.759843Z",
     "shell.execute_reply": "2024-03-10T01:21:44.759007Z"
    },
    "papermill": {
     "duration": 0.01788,
     "end_time": "2024-03-10T01:21:44.761751",
     "exception": false,
     "start_time": "2024-03-10T01:21:44.743871",
     "status": "completed"
    },
    "tags": []
   },
   "outputs": [],
   "source": [
    "class TokenAndPositionEmbedding(nn.Module):\n",
    "    def __init__(self, max_len, vocab_size, embed_dim):\n",
    "        super(TokenAndPositionEmbedding, self).__init__()\n",
    "        self.max_len = max_len\n",
    "        self.vocab_size = vocab_size\n",
    "        self.embed_dim = embed_dim\n",
    "        \n",
    "        self.token_emb = nn.Embedding(\n",
    "            num_embeddings=vocab_size, embedding_dim=embed_dim\n",
    "        )\n",
    "        self.pos_emb = nn.Embedding(num_embeddings=max_len, embedding_dim=embed_dim)\n",
    "           \n",
    "    def forward(self, x):\n",
    "        max_len = x.shape[-1]\n",
    "        positions = torch.arange(0, max_len).to(device)\n",
    "        pos_emb = self.pos_emb(positions)\n",
    "        tok_emb = self.token_emb(x)\n",
    "        return tok_emb + pos_emb"
   ]
  },
  {
   "cell_type": "markdown",
   "id": "bf98ab22",
   "metadata": {
    "papermill": {
     "duration": 0.008499,
     "end_time": "2024-03-10T01:21:44.778757",
     "exception": false,
     "start_time": "2024-03-10T01:21:44.770258",
     "status": "completed"
    },
    "tags": []
   },
   "source": [
    "## Build the GPT model"
   ]
  },
  {
   "cell_type": "code",
   "execution_count": 13,
   "id": "0ae7e4a4",
   "metadata": {
    "execution": {
     "iopub.execute_input": "2024-03-10T01:21:44.796777Z",
     "iopub.status.busy": "2024-03-10T01:21:44.796494Z",
     "iopub.status.idle": "2024-03-10T01:21:44.802932Z",
     "shell.execute_reply": "2024-03-10T01:21:44.802048Z"
    },
    "papermill": {
     "duration": 0.01766,
     "end_time": "2024-03-10T01:21:44.804896",
     "exception": false,
     "start_time": "2024-03-10T01:21:44.787236",
     "status": "completed"
    },
    "tags": []
   },
   "outputs": [],
   "source": [
    "class GPT(nn.Module):\n",
    "    def __init__(self, max_len, vocab_size, embed_dim, num_heads, key_dim, ff_dim):\n",
    "        super(GPT, self).__init__()\n",
    "        self.tok_pos_emb = TokenAndPositionEmbedding(max_len, vocab_size, embed_dim)\n",
    "        # we're only using one transformer block\n",
    "        self.transformer = TransformerBlock(num_heads, key_dim, embed_dim, ff_dim)\n",
    "        self.dense = nn.Linear(embed_dim, vocab_size)\n",
    "        \n",
    "    def forward(self, x):\n",
    "        x = self.tok_pos_emb(x)\n",
    "        x, attn_out_weights = self.transformer(x)\n",
    "        # no softmax because CELoss does it in there\n",
    "        x = self.dense(x)\n",
    "        return x, attn_out_weights"
   ]
  },
  {
   "cell_type": "markdown",
   "id": "4fcde59b",
   "metadata": {
    "papermill": {
     "duration": 0.008144,
     "end_time": "2024-03-10T01:21:44.821637",
     "exception": false,
     "start_time": "2024-03-10T01:21:44.813493",
     "status": "completed"
    },
    "tags": []
   },
   "source": [
    "## Train"
   ]
  },
  {
   "cell_type": "code",
   "execution_count": 14,
   "id": "63694f58",
   "metadata": {
    "execution": {
     "iopub.execute_input": "2024-03-10T01:21:44.839982Z",
     "iopub.status.busy": "2024-03-10T01:21:44.839387Z",
     "iopub.status.idle": "2024-03-10T01:21:44.918261Z",
     "shell.execute_reply": "2024-03-10T01:21:44.917452Z"
    },
    "papermill": {
     "duration": 0.090574,
     "end_time": "2024-03-10T01:21:44.920597",
     "exception": false,
     "start_time": "2024-03-10T01:21:44.830023",
     "status": "completed"
    },
    "tags": []
   },
   "outputs": [],
   "source": [
    "model = GPT(\n",
    "    max_len = 80, \n",
    "    vocab_size = 10000, \n",
    "    embed_dim = 256, \n",
    "    num_heads = 2, \n",
    "    key_dim = 256, \n",
    "    ff_dim = 256).to(device)\n",
    "optim = torch.optim.Adam(model.parameters()) \n",
    "loss_fn = torch.nn.CrossEntropyLoss()\n",
    "epochs = 20"
   ]
  },
  {
   "cell_type": "code",
   "execution_count": 15,
   "id": "7f83a9a5",
   "metadata": {
    "execution": {
     "iopub.execute_input": "2024-03-10T01:21:44.939690Z",
     "iopub.status.busy": "2024-03-10T01:21:44.939025Z",
     "iopub.status.idle": "2024-03-10T01:21:45.679966Z",
     "shell.execute_reply": "2024-03-10T01:21:45.678902Z"
    },
    "papermill": {
     "duration": 0.752662,
     "end_time": "2024-03-10T01:21:45.682099",
     "exception": false,
     "start_time": "2024-03-10T01:21:44.929437",
     "status": "completed"
    },
    "tags": []
   },
   "outputs": [
    {
     "name": "stdout",
     "output_type": "stream",
     "text": [
      "\n",
      "generated text:\n",
      "wine review crown strikes martin favorite pick brawny neighborhood shores supportive parmigiano helps exemplified overwhelmingly clarksburg worked maintains whistle opposite magliocco beef 87 haven sleekness 50 becomes denying reims allowing aromatically ripens magnum prevails rush texture bunch flush tom sensuous devillard rolland acids garda overrides dissipates demonstrate wide basque dill 1987 aniseed grapefruits similar loureiro cayenne 2013 mesquite saffron formula provided figs catalonian durbanville outline demeter capers novelty mode layon flush mentholated woody vera pungently delineation garys kitchen crust carpet\n",
      "\n"
     ]
    }
   ],
   "source": [
    "def sample_from(probs, temperature):\n",
    "        probs = probs.to('cpu').numpy()\n",
    "        probs = probs ** (1 / temperature)\n",
    "        probs = probs / np.sum(probs)\n",
    "        return np.random.choice(len(probs), p=probs), probs\n",
    "\n",
    "def generate(model, start_prompt, max_tokens, temperature):\n",
    "    model.eval()\n",
    "\n",
    "    start_tokens = vocab.lookup_indices(tokenizer(pad_punctuation(start_prompt)))\n",
    "    start_tokens = torch.IntTensor(start_tokens).to(device)\n",
    "\n",
    "    next_token = None\n",
    "    info = []\n",
    "    while len(start_tokens) < max_tokens and next_token != 0:\n",
    "        x = start_tokens\n",
    "        y, attn_out_weights = model(x.unsqueeze(0))\n",
    "        y = F.softmax(y, dim=-1)\n",
    "        with torch.no_grad():\n",
    "          next_token, probs = sample_from(y[0][-1], temperature)\n",
    "        info.append(\n",
    "                {\n",
    "                    \"prompt\": start_prompt,\n",
    "                    \"word_probs\": probs,\n",
    "                    \"atts\": attn_out_weights,\n",
    "                }\n",
    "            )\n",
    "        start_tokens = torch.cat(\n",
    "            (start_tokens, \n",
    "             torch.IntTensor([next_token]).to(device)))\n",
    "        start_prompt = start_prompt + \" \" + vocab.lookup_token(next_token)\n",
    "    print(f\"\\ngenerated text:\\n{start_prompt}\\n\")\n",
    "    return info\n",
    "generate(model, \"wine review\", max_tokens=80, temperature=1.0);"
   ]
  },
  {
   "cell_type": "code",
   "execution_count": 16,
   "id": "bea769f4",
   "metadata": {
    "execution": {
     "iopub.execute_input": "2024-03-10T01:21:45.701100Z",
     "iopub.status.busy": "2024-03-10T01:21:45.700820Z",
     "iopub.status.idle": "2024-03-10T01:37:45.451181Z",
     "shell.execute_reply": "2024-03-10T01:37:45.450076Z"
    },
    "papermill": {
     "duration": 959.762139,
     "end_time": "2024-03-10T01:37:45.453422",
     "exception": false,
     "start_time": "2024-03-10T01:21:45.691283",
     "status": "completed"
    },
    "tags": []
   },
   "outputs": [
    {
     "name": "stdout",
     "output_type": "stream",
     "text": [
      "Batch 4050/4060, loss 2.5119  [18.415, 6.191, 5.94, 5.907, 5.817]   [0, 3, 36, 4, 805]           \n",
      "Epoch:0, Train Loss:2.4556\n",
      "\n",
      "generated text:\n",
      "wine review | gewürztraminer from washington , us : the aromatic lemon notes dominate the nose of this wine from the oldest grape varieties and cool tar that are followed by the expected crispness of roussanne that charms off the fresh , brimming with generous aromatics . the wine should pair nicely with shrimp , it gains almost no . <stop>\n",
      "\n",
      "Batch 4050/4060, loss 1.9432  [20.329, 7.625, 7.434, 6.607, 6.334]   [0, 805, 36, 1713, 428]           \n",
      "Epoch:1, Train Loss:2.0833\n",
      "\n",
      "generated text:\n",
      "wine review | arinto from tejo , portugal : this is a flowery wine with juicy berry character . often goes grape layers of fruit and light acidity , it ' s bright in style of obvious vintage , it is ready to drink . <stop>\n",
      "\n",
      "Batch 4050/4060, loss 1.6425  [20.387, 6.923, 6.901, 6.48, 5.908]   [0, 805, 36, 428, 1713]           \n",
      "Epoch:2, Train Loss:1.9941\n",
      "\n",
      "generated text:\n",
      "wine review | pinot noir from champagne , france : this is a fruity and soft wine . baked fruits are soft and uncomplicated . the first <unk> is gentle with the supporting acidity as well as orange zest and paper . <stop>\n",
      "\n",
      "Batch 4050/4060, loss 1.9309  [20.523, 7.278, 6.789, 6.547, 5.985]   [0, 3, 2, 13, 48]           \n",
      "Epoch:3, Train Loss:1.9433\n",
      "\n",
      "generated text:\n",
      "wine review | tannat - cabernet from southwest france , france : a firmly tannic , dense cherry fruit as well or extracted tannat . despite the wine shows the weight of dryness at the edges and needs to age . <stop>\n",
      "\n",
      "Batch 4050/4060, loss 2.0069  [22.124, 7.984, 7.623, 6.374, 6.24]   [0, 3, 36, 4, 2]           \n",
      "Epoch:4, Train Loss:1.9082\n",
      "\n",
      "generated text:\n",
      "wine review | cabernet sauvignon from mendoza province , argentina : this opens with strong set of aromas , baking spice , mint , mint and minty berry aromas . feels sticky but also acidic , with drying sour currant - berry and chocolate flavors . <stop>\n",
      "\n",
      "Batch 4050/4060, loss 1.8791  [22.965, 8.244, 6.748, 6.406, 6.097]   [0, 3, 36, 428, 25]           \n",
      "Epoch:5, Train Loss:1.8820\n",
      "\n",
      "generated text:\n",
      "wine review | zinfandel from california , us : here ' s a nice zin to drink with some might be somewhat rude . it ' s huge and complex , with raspberry , cherry pie filling , anise and pepper flavors , with vanilla - based astringency . . <stop>\n",
      "\n",
      "Batch 4050/4060, loss 1.8860  [8.316, 7.923, 7.265, 7.251, 6.886]   [5542, 16, 4, 3020, 2]           \n",
      "Epoch:6, Train Loss:1.8614\n",
      "\n",
      "generated text:\n",
      "wine review | rosé this blend from southwest france , france : this refreshing wine is perfumed and fresh , just ready to drink . lemon and cantaloupe fruits develop well . it is crisp and fruity , yet with flavors of spice and lively acidity . <stop>\n",
      "\n",
      "Batch 4050/4060, loss 2.0995  [22.974, 8.638, 7.944, 6.628, 6.489]   [0, 3, 36, 428, 4]           \n",
      "Epoch:7, Train Loss:1.8443\n",
      "\n",
      "generated text:\n",
      "wine review | pinot noir from rose - <unk> , the forest brothers call this wine , released great summer is made from one of the first . an intoxicating palate shows touches of white gumdrop and gentle acidity , too . the fruit is bright and has a delicate fringe of cherry , spice and acidity , but it ' s softer than stronger . <stop>\n",
      "\n",
      "Batch 4050/4060, loss 2.0705  [23.385, 7.055, 5.947, 5.533, 5.388]   [0, 3, 36, 4, 249]           \n",
      "Epoch:8, Train Loss:1.8298\n",
      "\n",
      "generated text:\n",
      "wine review | port from port , portugal : this is a rich , full - bodied , rich and concentrated wine . it has a long - evolving firm character that does not <unk> too ripe , and gives it structure . it has dark , the wine to age berry flavors . drink this complex wine . <stop>\n",
      "\n",
      "Batch 4050/4060, loss 1.7523  [22.706, 7.091, 6.412, 5.552, 5.523]   [0, 3, 36, 17, 249]           \n",
      "Epoch:9, Train Loss:1.8173\n",
      "\n",
      "generated text:\n",
      "wine review | zinfandel from california , us : the impression of this zin is petite sirah , zinfandel and malbec , from a high vintage as is exactly the ever - hard - edged wine . however the bouquet is high . along the distinct notes of wild blackberries , blueberries , black plums and leather are curious but the acidity is offset by a hint of mint . <stop>\n",
      "\n",
      "Batch 4050/4060, loss 1.9324  [22.756, 7.473, 7.359, 6.321, 6.108]   [0, 3, 36, 5, 17]           \n",
      "Epoch:10, Train Loss:1.8062\n",
      "\n",
      "generated text:\n",
      "wine review | sangiovese from tuscany , italy : in a neutral nose , proudly displays aromas of wild berries and game , offering cedar and ripe plum on the nose and palate that is supported by firm tannins and rich layers of dark spice . it ' s easy drinking , ready so enjoy soon . <stop>\n",
      "\n",
      "Batch 4050/4060, loss 1.8268  [22.66, 8.046, 7.396, 7.171, 6.882]   [0, 3, 17, 25, 36]           \n",
      "Epoch:11, Train Loss:1.7965\n",
      "\n",
      "generated text:\n",
      "wine review | chardonnay from california , us : wafting smoky butter , caramelized apple and pear ? crisp acidity create a delicious , balanced wine that leans into the palate . <stop>\n",
      "\n",
      "Batch 4050/4060, loss 1.6148  [23.603, 8.603, 7.791, 6.964, 6.531]   [0, 3, 36, 4, 19]           \n",
      "Epoch:12, Train Loss:1.7876\n",
      "\n",
      "generated text:\n",
      "wine review | riesling from california , us : this medium - bodied wine ' s <unk> is showing baked apple as well as light on the nose but not lost . classic crisp lime , honeydew and honeydew melon give way to flavors of cured , dried stone fruit . <stop>\n",
      "\n",
      "Batch 4050/4060, loss 1.9038  [23.109, 7.478, 6.477, 5.755, 5.491]   [0, 3, 36, 17, 8]           \n",
      "Epoch:13, Train Loss:1.7794\n",
      "\n",
      "generated text:\n",
      "wine review | sauvignon blanc from loire valley , france : this wine is soft and bursting with gentle sauvignon blanc herbaceous aromas and flavors . the pepper just hints of sage and lemon mingle in the fuller - bodied midpalate , crisp acidity and the <unk> family on their own , so drink now . <stop>\n",
      "\n",
      "Batch 4050/4060, loss 1.7418  [22.208, 7.268, 6.977, 6.747, 6.303]   [0, 3, 23, 4, 7]           \n",
      "Epoch:14, Train Loss:1.7724\n",
      "\n",
      "generated text:\n",
      "wine review | nebbiolo from piedmont , italy : aromas of dried rose , berry , aromatic herb and violet set the tone . the medium - bodied palate offers raw wild cherry , star anise and menthol thyme alongside round tannins . <stop>\n",
      "\n",
      "Batch 4050/4060, loss 1.7805  [23.741, 7.48, 6.779, 6.573, 6.53]   [0, 36, 1, 428, 3]           \n",
      "Epoch:15, Train Loss:1.7653\n",
      "\n",
      "generated text:\n",
      "wine review | sauvignon blanc from california , us : steeliness make a very likeable , bright sauvignon blanc and for less expensive on this dry , crisp white wine is simultaneously . it balances green vegetable and lime fruit , lemongrass and spice flavors that finish clean . pair with salted <unk> with honey - fresh greens and be an appetizer wine lightly wine or meals with chinese food . <stop>\n",
      "\n",
      "Batch 4050/4060, loss 1.7580  [23.283, 6.771, 6.419, 6.255, 6.243]   [0, 3, 805, 36, 4]           \n",
      "Epoch:16, Train Loss:1.7590\n",
      "\n",
      "generated text:\n",
      "wine review | syrah from mendoza province , argentina : this is a soft , flabby wine that has patio , spiky aromas of spiced black fruit , rubber and coffee . the palate is grabby and rubbery , with herbal plum and licorice flavors . drink with carob and black cherry notes . a blend of cabernet and petit verdot holds extra weight and freshness . <stop>\n",
      "\n",
      "Batch 4050/4060, loss 1.7569  [23.977, 6.792, 6.445, 5.955, 5.752]   [0, 3, 36, 249, 4]           \n",
      "Epoch:17, Train Loss:1.7531\n",
      "\n",
      "generated text:\n",
      "wine review | tinta de toro from northern spain , spain : licorice , molasses and prune are sweet and candied , with warmth and nuance . the palate is full in force , with ripe tannins and deep flavors of fig , chocolate and molasses . the finish on this blockbuster , raw toro that has been not overly complex stand for full size but also means also sauvignon . needs time , it ' s an excellence of\n",
      "\n",
      "Batch 4050/4060, loss 1.7584  [24.449, 7.509, 5.908, 5.904, 5.847]   [0, 36, 3, 5, 7]           \n",
      "Epoch:18, Train Loss:1.7474\n",
      "\n",
      "generated text:\n",
      "wine review | cabernet sauvignon from california , us : this petit verdot is made in a respectable effort , especially in its apple and cherry core . with easy - drinking , it ' s not particularly subtle full - bodied but well - behaved , with more pepper , herb and tea flavors as well as intense , combining minerality and a pleasant finish . <stop>\n",
      "\n",
      "Batch 4050/4060, loss 1.8474  [22.708, 5.866, 5.649, 5.642, 5.355]   [0, 3, 4787, 5, 17]           \n",
      "Epoch:19, Train Loss:1.7420\n",
      "\n",
      "generated text:\n",
      "wine review | pinot noir from california , us : this is an earthy wine made in small quantities that ' s made from 100 % pinot noir , from this vintage , finished by a thickness of heavy oak , cola and licorice . the oak is just right for this wine ' s <unk> incredibly interesting . a bold , compelling nose calls into mushrooms , roasted lamb nuts , and like nutmeg , perfect for tapas appetizers\n",
      "\n"
     ]
    }
   ],
   "source": [
    "for epoch in range(epochs):\n",
    "    train_loss = 0\n",
    "    model.train()\n",
    "    for batch_num, (curr, target) in enumerate(train_dataloader, start=0):\n",
    "        batch_size = curr.shape[0]\n",
    "        seq_len = curr.shape[1]\n",
    "\n",
    "        # curr [32, 200], pred [32, 200, 10000]\n",
    "        pred, weights = model(curr)\n",
    "        cache_p = pred\n",
    "        # CE loss expects n x c for predicted values, where C is a list of probabilities\n",
    "        # so we need to reshape our [batch, seq, vocab] into [batch * seq, vocab]\n",
    "        pred = pred.reshape(batch_size * seq_len, -1)\n",
    "        target = target.reshape(-1)\n",
    "\n",
    "        loss = loss_fn(pred, target) \n",
    "        optim.zero_grad() # reset gradients\n",
    "        loss.backward()\n",
    "        optim.step()\n",
    "\n",
    "        if batch_num % 10 == 0:\n",
    "            print(f\"\\rBatch {batch_num}/{len(train_dataloader)}, loss {loss:.4f}\", end='')\n",
    "            print(\" \", [round(x, 3) for x in torch.topk(cache_p[8][-1], 5).values.tolist()],\n",
    "                  \" \",torch.topk(cache_p[8][-1], 5).indices.tolist(), end='           ')\n",
    "        train_loss += loss \n",
    "    train_loss /= len(train_dataloader)\n",
    "\n",
    "    print(f'\\nEpoch:{epoch}, Train Loss:{train_loss:.4f}')\n",
    "    generate(model, \"wine review\", max_tokens=80, temperature=1.0);"
   ]
  },
  {
   "cell_type": "markdown",
   "id": "ab4c33ed",
   "metadata": {
    "papermill": {
     "duration": 0.3389,
     "end_time": "2024-03-10T01:37:46.125237",
     "exception": false,
     "start_time": "2024-03-10T01:37:45.786337",
     "status": "completed"
    },
    "tags": []
   },
   "source": [
    "## Save model"
   ]
  },
  {
   "cell_type": "code",
   "execution_count": 17,
   "id": "822cc936",
   "metadata": {
    "execution": {
     "iopub.execute_input": "2024-03-10T01:37:46.800792Z",
     "iopub.status.busy": "2024-03-10T01:37:46.800427Z",
     "iopub.status.idle": "2024-03-10T01:37:46.859078Z",
     "shell.execute_reply": "2024-03-10T01:37:46.858158Z"
    },
    "papermill": {
     "duration": 0.396131,
     "end_time": "2024-03-10T01:37:46.861199",
     "exception": false,
     "start_time": "2024-03-10T01:37:46.465068",
     "status": "completed"
    },
    "tags": []
   },
   "outputs": [
    {
     "data": {
      "text/plain": [
       "<All keys matched successfully>"
      ]
     },
     "execution_count": 17,
     "metadata": {},
     "output_type": "execute_result"
    }
   ],
   "source": [
    "torch.save(model.state_dict(), \"wineGPT\")\n",
    "checkpoint = torch.load(\"wineGPT\", map_location=device)\n",
    "model.load_state_dict(checkpoint)"
   ]
  },
  {
   "cell_type": "markdown",
   "id": "7bc3aceb",
   "metadata": {
    "papermill": {
     "duration": 0.35668,
     "end_time": "2024-03-10T01:37:47.553665",
     "exception": false,
     "start_time": "2024-03-10T01:37:47.196985",
     "status": "completed"
    },
    "tags": []
   },
   "source": [
    "## Generate some reviews!"
   ]
  },
  {
   "cell_type": "code",
   "execution_count": 18,
   "id": "d43a7554",
   "metadata": {
    "execution": {
     "iopub.execute_input": "2024-03-10T01:37:48.282155Z",
     "iopub.status.busy": "2024-03-10T01:37:48.281295Z",
     "iopub.status.idle": "2024-03-10T01:37:48.341631Z",
     "shell.execute_reply": "2024-03-10T01:37:48.340772Z"
    },
    "papermill": {
     "duration": 0.453764,
     "end_time": "2024-03-10T01:37:48.343711",
     "exception": false,
     "start_time": "2024-03-10T01:37:47.889947",
     "status": "completed"
    },
    "tags": []
   },
   "outputs": [
    {
     "name": "stdout",
     "output_type": "stream",
     "text": [
      "\n",
      "generated text:\n",
      "wine review | ruby port from napa, california  , us : this is a simple , dry and crisp wine , with a clean , fresh acidity . it has flavors of cherry and raspberry , cola and spice . <stop>\n",
      "\n"
     ]
    }
   ],
   "source": [
    "generate(model, \"wine review | ruby port from napa, california \", max_tokens=80, temperature=.5);"
   ]
  },
  {
   "cell_type": "code",
   "execution_count": 19,
   "id": "96008c9d",
   "metadata": {
    "execution": {
     "iopub.execute_input": "2024-03-10T01:37:49.015755Z",
     "iopub.status.busy": "2024-03-10T01:37:49.015380Z",
     "iopub.status.idle": "2024-03-10T01:37:49.112856Z",
     "shell.execute_reply": "2024-03-10T01:37:49.111713Z"
    },
    "papermill": {
     "duration": 0.434977,
     "end_time": "2024-03-10T01:37:49.114841",
     "exception": false,
     "start_time": "2024-03-10T01:37:48.679864",
     "status": "completed"
    },
    "tags": []
   },
   "outputs": [
    {
     "name": "stdout",
     "output_type": "stream",
     "text": [
      "\n",
      "generated text:\n",
      "wine review | sweet red blend from  central italy , italy : this dessert wine is made from syrah . it offers a lot of appeal , but the wine ' s also <unk> with an attractive floral fragrance of red berries and black pepper . the wine has a touch of sweetness that would pair well with pasta or lasagna . <stop>\n",
      "\n"
     ]
    }
   ],
   "source": [
    "generate(model, \"wine review | sweet red blend from \", max_tokens=80, temperature=.5);"
   ]
  },
  {
   "cell_type": "code",
   "execution_count": 20,
   "id": "80b92858",
   "metadata": {
    "execution": {
     "iopub.execute_input": "2024-03-10T01:37:49.789270Z",
     "iopub.status.busy": "2024-03-10T01:37:49.788880Z",
     "iopub.status.idle": "2024-03-10T01:37:49.890947Z",
     "shell.execute_reply": "2024-03-10T01:37:49.889891Z"
    },
    "papermill": {
     "duration": 0.439753,
     "end_time": "2024-03-10T01:37:49.893012",
     "exception": false,
     "start_time": "2024-03-10T01:37:49.453259",
     "status": "completed"
    },
    "tags": []
   },
   "outputs": [
    {
     "name": "stdout",
     "output_type": "stream",
     "text": [
      "\n",
      "generated text:\n",
      "wine review | strawberry  - style red blend from washington , us : this is a blend of syrah ( 33 % ) and syrah ( 33 % ) and petit verdot . the aromas are light and reserved in style , with a sense of restraint and balance . the tannins are soft and the flavors are light and elegant . <stop>\n",
      "\n"
     ]
    }
   ],
   "source": [
    "generate(model, \"wine review | strawberry \", max_tokens=80, temperature=.5);"
   ]
  },
  {
   "cell_type": "markdown",
   "id": "97c6f472",
   "metadata": {
    "papermill": {
     "duration": 0.335488,
     "end_time": "2024-03-10T01:37:50.561638",
     "exception": false,
     "start_time": "2024-03-10T01:37:50.226150",
     "status": "completed"
    },
    "tags": []
   },
   "source": [
    "## Bonus: attention visualizer\n",
    "Darker blue indicates more attention on the word."
   ]
  },
  {
   "cell_type": "code",
   "execution_count": 21,
   "id": "2d332455",
   "metadata": {
    "execution": {
     "iopub.execute_input": "2024-03-10T01:37:51.278853Z",
     "iopub.status.busy": "2024-03-10T01:37:51.278017Z",
     "iopub.status.idle": "2024-03-10T01:37:51.285995Z",
     "shell.execute_reply": "2024-03-10T01:37:51.285178Z"
    },
    "papermill": {
     "duration": 0.344007,
     "end_time": "2024-03-10T01:37:51.287965",
     "exception": false,
     "start_time": "2024-03-10T01:37:50.943958",
     "status": "completed"
    },
    "tags": []
   },
   "outputs": [],
   "source": [
    "from IPython.display import display, HTML\n",
    "\n",
    "def print_probs(info, vocab, top_k=5):\n",
    "    for i in info:\n",
    "        highlighted_text = []\n",
    "        attns = i[\"atts\"][0][-1]\n",
    "        max_attn = max(attns).item()\n",
    "        for word, att_score in zip(\n",
    "            i[\"prompt\"].split(), attns\n",
    "        ):\n",
    "            highlighted_text.append(\n",
    "                '<span style=\"background-color:rgba(135,206,250,'\n",
    "                + str(att_score.item()/max_attn)\n",
    "                + ');\">'\n",
    "                + word\n",
    "                + \"</span>\"\n",
    "            )\n",
    "        highlighted_text = \" \".join(highlighted_text)\n",
    "        display(HTML(highlighted_text))\n",
    "\n",
    "        word_probs = i[\"word_probs\"]\n",
    "        p_sorted = np.sort(word_probs)[::-1][:top_k]\n",
    "        i_sorted = np.argsort(word_probs)[::-1][:top_k]\n",
    "        for p, i in zip(p_sorted, i_sorted):\n",
    "            print(f\"{vocab.lookup_token(i)}:   \\t{np.round(100*p,2)}%\")\n",
    "        print(\"--------\\n\")"
   ]
  },
  {
   "cell_type": "code",
   "execution_count": 22,
   "id": "093fb0c7",
   "metadata": {
    "execution": {
     "iopub.execute_input": "2024-03-10T01:37:51.984969Z",
     "iopub.status.busy": "2024-03-10T01:37:51.983986Z",
     "iopub.status.idle": "2024-03-10T01:37:52.110801Z",
     "shell.execute_reply": "2024-03-10T01:37:52.110012Z"
    },
    "papermill": {
     "duration": 0.487001,
     "end_time": "2024-03-10T01:37:52.112565",
     "exception": false,
     "start_time": "2024-03-10T01:37:51.625564",
     "status": "completed"
    },
    "tags": []
   },
   "outputs": [
    {
     "name": "stdout",
     "output_type": "stream",
     "text": [
      "\n",
      "generated text:\n",
      "wine review | dry riesling  from california , us : a nice everyday grigio , with pleasant citrus , pear and spice flavors . <stop>\n",
      "\n"
     ]
    },
    {
     "data": {
      "text/html": [
       "<span style=\"background-color:rgba(135,206,250,0.3428166254023832);\">wine</span> <span style=\"background-color:rgba(135,206,250,1.0);\">review</span> <span style=\"background-color:rgba(135,206,250,0.38225933799706446);\">|</span> <span style=\"background-color:rgba(135,206,250,0.1256011053351028);\">dry</span> <span style=\"background-color:rgba(135,206,250,0.09334809834553147);\">riesling</span>"
      ],
      "text/plain": [
       "<IPython.core.display.HTML object>"
      ]
     },
     "metadata": {},
     "output_type": "display_data"
    },
    {
     "name": "stdout",
     "output_type": "stream",
     "text": [
      "from:   \t100.0%\n",
      "-:   \t0.0%\n",
      ",:   \t0.0%\n",
      "blend:   \t0.0%\n",
      "<unk>:   \t0.0%\n",
      "--------\n",
      "\n"
     ]
    },
    {
     "data": {
      "text/html": [
       "<span style=\"background-color:rgba(135,206,250,0.6802983934180984);\">wine</span> <span style=\"background-color:rgba(135,206,250,0.5799054283514655);\">review</span> <span style=\"background-color:rgba(135,206,250,0.4941947329841458);\">|</span> <span style=\"background-color:rgba(135,206,250,1.0);\">dry</span> <span style=\"background-color:rgba(135,206,250,0.3879044060428404);\">riesling</span> <span style=\"background-color:rgba(135,206,250,0.25537767650999876);\">from</span>"
      ],
      "text/plain": [
       "<IPython.core.display.HTML object>"
      ]
     },
     "metadata": {},
     "output_type": "display_data"
    },
    {
     "name": "stdout",
     "output_type": "stream",
     "text": [
      "northeastern:   \t49.05%\n",
      "california:   \t33.48%\n",
      "sicily:   \t7.04%\n",
      "<unk>:   \t4.68%\n",
      "new:   \t2.07%\n",
      "--------\n",
      "\n"
     ]
    },
    {
     "data": {
      "text/html": [
       "<span style=\"background-color:rgba(135,206,250,0.6205832626267459);\">wine</span> <span style=\"background-color:rgba(135,206,250,1.0);\">review</span> <span style=\"background-color:rgba(135,206,250,0.6327736873880045);\">|</span> <span style=\"background-color:rgba(135,206,250,0.2716045390383311);\">dry</span> <span style=\"background-color:rgba(135,206,250,0.488796181579806);\">riesling</span> <span style=\"background-color:rgba(135,206,250,0.7311562035743833);\">from</span> <span style=\"background-color:rgba(135,206,250,0.2888395552325239);\">california</span>"
      ],
      "text/plain": [
       "<IPython.core.display.HTML object>"
      ]
     },
     "metadata": {},
     "output_type": "display_data"
    },
    {
     "name": "stdout",
     "output_type": "stream",
     "text": [
      ",:   \t100.0%\n",
      "-:   \t0.0%\n",
      "and:   \t0.0%\n",
      "but:   \t0.0%\n",
      "with:   \t0.0%\n",
      "--------\n",
      "\n"
     ]
    },
    {
     "data": {
      "text/html": [
       "<span style=\"background-color:rgba(135,206,250,0.701655712407367);\">wine</span> <span style=\"background-color:rgba(135,206,250,0.868319675498506);\">review</span> <span style=\"background-color:rgba(135,206,250,0.593497890796121);\">|</span> <span style=\"background-color:rgba(135,206,250,0.5116259532084262);\">dry</span> <span style=\"background-color:rgba(135,206,250,0.42689258900654764);\">riesling</span> <span style=\"background-color:rgba(135,206,250,0.5039698422814516);\">from</span> <span style=\"background-color:rgba(135,206,250,1.0);\">california</span> <span style=\"background-color:rgba(135,206,250,0.45730954901115906);\">,</span>"
      ],
      "text/plain": [
       "<IPython.core.display.HTML object>"
      ]
     },
     "metadata": {},
     "output_type": "display_data"
    },
    {
     "name": "stdout",
     "output_type": "stream",
     "text": [
      "us:   \t100.0%\n",
      "france:   \t0.0%\n",
      "italy:   \t0.0%\n",
      "chile:   \t0.0%\n",
      "germany:   \t0.0%\n",
      "--------\n",
      "\n"
     ]
    },
    {
     "data": {
      "text/html": [
       "<span style=\"background-color:rgba(135,206,250,0.6885889392565729);\">wine</span> <span style=\"background-color:rgba(135,206,250,1.0);\">review</span> <span style=\"background-color:rgba(135,206,250,0.6238413582790736);\">|</span> <span style=\"background-color:rgba(135,206,250,0.29595635044918817);\">dry</span> <span style=\"background-color:rgba(135,206,250,0.26003044589137064);\">riesling</span> <span style=\"background-color:rgba(135,206,250,0.3312976510343691);\">from</span> <span style=\"background-color:rgba(135,206,250,0.4896872331657463);\">california</span> <span style=\"background-color:rgba(135,206,250,0.5401883788016154);\">,</span> <span style=\"background-color:rgba(135,206,250,0.1952916179015907);\">us</span>"
      ],
      "text/plain": [
       "<IPython.core.display.HTML object>"
      ]
     },
     "metadata": {},
     "output_type": "display_data"
    },
    {
     "name": "stdout",
     "output_type": "stream",
     "text": [
      "::   \t100.0%\n",
      "like:   \t0.0%\n",
      ",:   \t0.0%\n",
      "and:   \t0.0%\n",
      "that:   \t0.0%\n",
      "--------\n",
      "\n"
     ]
    },
    {
     "data": {
      "text/html": [
       "<span style=\"background-color:rgba(135,206,250,1.0);\">wine</span> <span style=\"background-color:rgba(135,206,250,0.616427011293108);\">review</span> <span style=\"background-color:rgba(135,206,250,0.6381390699124361);\">|</span> <span style=\"background-color:rgba(135,206,250,0.3588456830681664);\">dry</span> <span style=\"background-color:rgba(135,206,250,0.3103924384451326);\">riesling</span> <span style=\"background-color:rgba(135,206,250,0.13094902869239586);\">from</span> <span style=\"background-color:rgba(135,206,250,0.43786168555395993);\">california</span> <span style=\"background-color:rgba(135,206,250,0.24912463941490115);\">,</span> <span style=\"background-color:rgba(135,206,250,0.2657410999940338);\">us</span> <span style=\"background-color:rgba(135,206,250,0.2428962534617626);\">:</span>"
      ],
      "text/plain": [
       "<IPython.core.display.HTML object>"
      ]
     },
     "metadata": {},
     "output_type": "display_data"
    },
    {
     "name": "stdout",
     "output_type": "stream",
     "text": [
      "this:   \t54.28%\n",
      "a:   \t32.77%\n",
      "made:   \t4.56%\n",
      "there:   \t3.71%\n",
      "with:   \t1.6%\n",
      "--------\n",
      "\n"
     ]
    },
    {
     "data": {
      "text/html": [
       "<span style=\"background-color:rgba(135,206,250,1.0);\">wine</span> <span style=\"background-color:rgba(135,206,250,0.9977932577196357);\">review</span> <span style=\"background-color:rgba(135,206,250,0.7503678167951418);\">|</span> <span style=\"background-color:rgba(135,206,250,0.3443231560781022);\">dry</span> <span style=\"background-color:rgba(135,206,250,0.24300339787752712);\">riesling</span> <span style=\"background-color:rgba(135,206,250,0.21017936447534022);\">from</span> <span style=\"background-color:rgba(135,206,250,0.39393523476482467);\">california</span> <span style=\"background-color:rgba(135,206,250,0.3129000398920553);\">,</span> <span style=\"background-color:rgba(135,206,250,0.35713406092088995);\">us</span> <span style=\"background-color:rgba(135,206,250,0.4356580136672686);\">:</span> <span style=\"background-color:rgba(135,206,250,0.272763988489153);\">a</span>"
      ],
      "text/plain": [
       "<IPython.core.display.HTML object>"
      ]
     },
     "metadata": {},
     "output_type": "display_data"
    },
    {
     "name": "stdout",
     "output_type": "stream",
     "text": [
      "nice:   \t28.69%\n",
      "little:   \t23.57%\n",
      "good:   \t15.43%\n",
      "very:   \t11.12%\n",
      "pretty:   \t3.1%\n",
      "--------\n",
      "\n"
     ]
    },
    {
     "data": {
      "text/html": [
       "<span style=\"background-color:rgba(135,206,250,0.8399342291382248);\">wine</span> <span style=\"background-color:rgba(135,206,250,0.7055557341869888);\">review</span> <span style=\"background-color:rgba(135,206,250,0.6396940404602186);\">|</span> <span style=\"background-color:rgba(135,206,250,0.690398440112618);\">dry</span> <span style=\"background-color:rgba(135,206,250,0.285317765561283);\">riesling</span> <span style=\"background-color:rgba(135,206,250,0.3175533215538933);\">from</span> <span style=\"background-color:rgba(135,206,250,0.281372098079062);\">california</span> <span style=\"background-color:rgba(135,206,250,0.21265917659855066);\">,</span> <span style=\"background-color:rgba(135,206,250,0.1651275199576561);\">us</span> <span style=\"background-color:rgba(135,206,250,0.4317924964961468);\">:</span> <span style=\"background-color:rgba(135,206,250,1.0);\">a</span> <span style=\"background-color:rgba(135,206,250,0.15419073464626584);\">nice</span>"
      ],
      "text/plain": [
       "<IPython.core.display.HTML object>"
      ]
     },
     "metadata": {},
     "output_type": "display_data"
    },
    {
     "name": "stdout",
     "output_type": "stream",
     "text": [
      ",:   \t34.11%\n",
      "everyday:   \t14.33%\n",
      "wine:   \t13.91%\n",
      "white:   \t12.8%\n",
      "cocktail:   \t4.5%\n",
      "--------\n",
      "\n"
     ]
    },
    {
     "data": {
      "text/html": [
       "<span style=\"background-color:rgba(135,206,250,1.0);\">wine</span> <span style=\"background-color:rgba(135,206,250,0.5555185494507443);\">review</span> <span style=\"background-color:rgba(135,206,250,0.7000654803024052);\">|</span> <span style=\"background-color:rgba(135,206,250,0.7685529558716673);\">dry</span> <span style=\"background-color:rgba(135,206,250,0.390111135604288);\">riesling</span> <span style=\"background-color:rgba(135,206,250,0.1923200307040114);\">from</span> <span style=\"background-color:rgba(135,206,250,0.31938377056367784);\">california</span> <span style=\"background-color:rgba(135,206,250,0.27145368623166966);\">,</span> <span style=\"background-color:rgba(135,206,250,0.184094672631504);\">us</span> <span style=\"background-color:rgba(135,206,250,0.47270708812740536);\">:</span> <span style=\"background-color:rgba(135,206,250,0.7363392974168884);\">a</span> <span style=\"background-color:rgba(135,206,250,0.2423894864992895);\">nice</span> <span style=\"background-color:rgba(135,206,250,0.2373895014243481);\">everyday</span>"
      ],
      "text/plain": [
       "<IPython.core.display.HTML object>"
      ]
     },
     "metadata": {},
     "output_type": "display_data"
    },
    {
     "name": "stdout",
     "output_type": "stream",
     "text": [
      "white:   \t94.14%\n",
      "wine:   \t1.99%\n",
      "pinot:   \t1.25%\n",
      ",:   \t0.9%\n",
      "sipper:   \t0.52%\n",
      "--------\n",
      "\n"
     ]
    },
    {
     "data": {
      "text/html": [
       "<span style=\"background-color:rgba(135,206,250,0.4459556104580856);\">wine</span> <span style=\"background-color:rgba(135,206,250,1.0);\">review</span> <span style=\"background-color:rgba(135,206,250,0.4190636292705854);\">|</span> <span style=\"background-color:rgba(135,206,250,0.1616872939457049);\">dry</span> <span style=\"background-color:rgba(135,206,250,0.08767833634754667);\">riesling</span> <span style=\"background-color:rgba(135,206,250,0.18888420681804888);\">from</span> <span style=\"background-color:rgba(135,206,250,0.1172134585268745);\">california</span> <span style=\"background-color:rgba(135,206,250,0.23037237153756474);\">,</span> <span style=\"background-color:rgba(135,206,250,0.12742606425485842);\">us</span> <span style=\"background-color:rgba(135,206,250,0.3485360141450794);\">:</span> <span style=\"background-color:rgba(135,206,250,0.7589556686673984);\">a</span> <span style=\"background-color:rgba(135,206,250,0.23558738858813275);\">nice</span> <span style=\"background-color:rgba(135,206,250,0.6395286243033186);\">everyday</span> <span style=\"background-color:rgba(135,206,250,0.07970690637266467);\">grigio</span>"
      ],
      "text/plain": [
       "<IPython.core.display.HTML object>"
      ]
     },
     "metadata": {},
     "output_type": "display_data"
    },
    {
     "name": "stdout",
     "output_type": "stream",
     "text": [
      ",:   \t83.35%\n",
      "with:   \t7.21%\n",
      "that:   \t6.49%\n",
      "for:   \t1.98%\n",
      ".:   \t0.91%\n",
      "--------\n",
      "\n"
     ]
    },
    {
     "data": {
      "text/html": [
       "<span style=\"background-color:rgba(135,206,250,1.0);\">wine</span> <span style=\"background-color:rgba(135,206,250,0.7145092679413616);\">review</span> <span style=\"background-color:rgba(135,206,250,0.690009127297024);\">|</span> <span style=\"background-color:rgba(135,206,250,0.510996682761168);\">dry</span> <span style=\"background-color:rgba(135,206,250,0.44099746977462245);\">riesling</span> <span style=\"background-color:rgba(135,206,250,0.16543613357219802);\">from</span> <span style=\"background-color:rgba(135,206,250,0.3875409249856067);\">california</span> <span style=\"background-color:rgba(135,206,250,0.27325436011745263);\">,</span> <span style=\"background-color:rgba(135,206,250,0.27282404792820425);\">us</span> <span style=\"background-color:rgba(135,206,250,0.42964505807598774);\">:</span> <span style=\"background-color:rgba(135,206,250,0.5708739933119871);\">a</span> <span style=\"background-color:rgba(135,206,250,0.5770779586014908);\">nice</span> <span style=\"background-color:rgba(135,206,250,0.5585094171078651);\">everyday</span> <span style=\"background-color:rgba(135,206,250,0.5410840469741792);\">grigio</span> <span style=\"background-color:rgba(135,206,250,0.5439246736610962);\">,</span>"
      ],
      "text/plain": [
       "<IPython.core.display.HTML object>"
      ]
     },
     "metadata": {},
     "output_type": "display_data"
    },
    {
     "name": "stdout",
     "output_type": "stream",
     "text": [
      "with:   \t99.41%\n",
      "but:   \t0.27%\n",
      "sushi:   \t0.07%\n",
      "and:   \t0.04%\n",
      "if:   \t0.04%\n",
      "--------\n",
      "\n"
     ]
    },
    {
     "data": {
      "text/html": [
       "<span style=\"background-color:rgba(135,206,250,1.0);\">wine</span> <span style=\"background-color:rgba(135,206,250,0.5816101023355499);\">review</span> <span style=\"background-color:rgba(135,206,250,0.8377230931151136);\">|</span> <span style=\"background-color:rgba(135,206,250,0.6609241393520988);\">dry</span> <span style=\"background-color:rgba(135,206,250,0.3046402686227094);\">riesling</span> <span style=\"background-color:rgba(135,206,250,0.16560457702291964);\">from</span> <span style=\"background-color:rgba(135,206,250,0.3721519229519558);\">california</span> <span style=\"background-color:rgba(135,206,250,0.20598186480043462);\">,</span> <span style=\"background-color:rgba(135,206,250,0.24570342647230708);\">us</span> <span style=\"background-color:rgba(135,206,250,0.2962625769831162);\">:</span> <span style=\"background-color:rgba(135,206,250,0.25660970924899135);\">a</span> <span style=\"background-color:rgba(135,206,250,0.4961237267156689);\">nice</span> <span style=\"background-color:rgba(135,206,250,0.5685218592961233);\">everyday</span> <span style=\"background-color:rgba(135,206,250,0.22245771680592927);\">grigio</span> <span style=\"background-color:rgba(135,206,250,0.7126095790631214);\">,</span> <span style=\"background-color:rgba(135,206,250,0.4519823052772888);\">with</span>"
      ],
      "text/plain": [
       "<IPython.core.display.HTML object>"
      ]
     },
     "metadata": {},
     "output_type": "display_data"
    },
    {
     "name": "stdout",
     "output_type": "stream",
     "text": [
      "a:   \t27.48%\n",
      "pleasant:   \t13.73%\n",
      "sushi:   \t13.53%\n",
      "crisp:   \t12.47%\n",
      "citrus:   \t4.91%\n",
      "--------\n",
      "\n"
     ]
    },
    {
     "data": {
      "text/html": [
       "<span style=\"background-color:rgba(135,206,250,0.4746374977729548);\">wine</span> <span style=\"background-color:rgba(135,206,250,0.24621759143032992);\">review</span> <span style=\"background-color:rgba(135,206,250,0.28705605877779755);\">|</span> <span style=\"background-color:rgba(135,206,250,0.21467217894106025);\">dry</span> <span style=\"background-color:rgba(135,206,250,0.1603905832429018);\">riesling</span> <span style=\"background-color:rgba(135,206,250,0.09143952914189922);\">from</span> <span style=\"background-color:rgba(135,206,250,0.10550919111692393);\">california</span> <span style=\"background-color:rgba(135,206,250,0.09499954320265303);\">,</span> <span style=\"background-color:rgba(135,206,250,0.09638181070925317);\">us</span> <span style=\"background-color:rgba(135,206,250,0.09744607260572391);\">:</span> <span style=\"background-color:rgba(135,206,250,0.09179686234633389);\">a</span> <span style=\"background-color:rgba(135,206,250,0.05031620878954018);\">nice</span> <span style=\"background-color:rgba(135,206,250,0.07243126148952884);\">everyday</span> <span style=\"background-color:rgba(135,206,250,0.08606854136635299);\">grigio</span> <span style=\"background-color:rgba(135,206,250,0.16156567860092969);\">,</span> <span style=\"background-color:rgba(135,206,250,1.0);\">with</span> <span style=\"background-color:rgba(135,206,250,0.06576423461516659);\">pleasant</span>"
      ],
      "text/plain": [
       "<IPython.core.display.HTML object>"
      ]
     },
     "metadata": {},
     "output_type": "display_data"
    },
    {
     "name": "stdout",
     "output_type": "stream",
     "text": [
      "citrus:   \t77.1%\n",
      "flavors:   \t7.7%\n",
      ",:   \t5.9%\n",
      "peach:   \t3.65%\n",
      "lemon:   \t1.11%\n",
      "--------\n",
      "\n"
     ]
    },
    {
     "data": {
      "text/html": [
       "<span style=\"background-color:rgba(135,206,250,0.7971674591305015);\">wine</span> <span style=\"background-color:rgba(135,206,250,0.7412688336065986);\">review</span> <span style=\"background-color:rgba(135,206,250,0.7663018362636987);\">|</span> <span style=\"background-color:rgba(135,206,250,0.2876868623774595);\">dry</span> <span style=\"background-color:rgba(135,206,250,0.1556868020491652);\">riesling</span> <span style=\"background-color:rgba(135,206,250,0.20846909412286643);\">from</span> <span style=\"background-color:rgba(135,206,250,0.3744540315922708);\">california</span> <span style=\"background-color:rgba(135,206,250,0.29669906515572614);\">,</span> <span style=\"background-color:rgba(135,206,250,0.20843847857564898);\">us</span> <span style=\"background-color:rgba(135,206,250,0.23878196430413065);\">:</span> <span style=\"background-color:rgba(135,206,250,0.3727232839919402);\">a</span> <span style=\"background-color:rgba(135,206,250,0.15562217217758909);\">nice</span> <span style=\"background-color:rgba(135,206,250,0.15994485908935502);\">everyday</span> <span style=\"background-color:rgba(135,206,250,0.127151319718611);\">grigio</span> <span style=\"background-color:rgba(135,206,250,0.4986164321740565);\">,</span> <span style=\"background-color:rgba(135,206,250,1.0);\">with</span> <span style=\"background-color:rgba(135,206,250,0.4467269298176949);\">pleasant</span> <span style=\"background-color:rgba(135,206,250,0.29201292151342023);\">citrus</span>"
      ],
      "text/plain": [
       "<IPython.core.display.HTML object>"
      ]
     },
     "metadata": {},
     "output_type": "display_data"
    },
    {
     "name": "stdout",
     "output_type": "stream",
     "text": [
      ",:   \t63.43%\n",
      "and:   \t35.13%\n",
      "flavors:   \t1.01%\n",
      "fruit:   \t0.27%\n",
      "-:   \t0.14%\n",
      "--------\n",
      "\n"
     ]
    },
    {
     "data": {
      "text/html": [
       "<span style=\"background-color:rgba(135,206,250,0.6279187011648739);\">wine</span> <span style=\"background-color:rgba(135,206,250,0.4180740054153227);\">review</span> <span style=\"background-color:rgba(135,206,250,0.44634672874259856);\">|</span> <span style=\"background-color:rgba(135,206,250,0.3147733995363993);\">dry</span> <span style=\"background-color:rgba(135,206,250,0.24781880933950132);\">riesling</span> <span style=\"background-color:rgba(135,206,250,0.08836407340603356);\">from</span> <span style=\"background-color:rgba(135,206,250,0.20484907726280957);\">california</span> <span style=\"background-color:rgba(135,206,250,0.13669446090609028);\">,</span> <span style=\"background-color:rgba(135,206,250,0.1771567749699817);\">us</span> <span style=\"background-color:rgba(135,206,250,0.15011645657345546);\">:</span> <span style=\"background-color:rgba(135,206,250,0.17415324270929805);\">a</span> <span style=\"background-color:rgba(135,206,250,0.18826331400936328);\">nice</span> <span style=\"background-color:rgba(135,206,250,0.13595244562228317);\">everyday</span> <span style=\"background-color:rgba(135,206,250,0.1109875465212103);\">grigio</span> <span style=\"background-color:rgba(135,206,250,0.15692432321520638);\">,</span> <span style=\"background-color:rgba(135,206,250,0.5593255268751502);\">with</span> <span style=\"background-color:rgba(135,206,250,0.24134451037948262);\">pleasant</span> <span style=\"background-color:rgba(135,206,250,1.0);\">citrus</span> <span style=\"background-color:rgba(135,206,250,0.36555675178909297);\">,</span>"
      ],
      "text/plain": [
       "<IPython.core.display.HTML object>"
      ]
     },
     "metadata": {},
     "output_type": "display_data"
    },
    {
     "name": "stdout",
     "output_type": "stream",
     "text": [
      "pear:   \t27.72%\n",
      "green:   \t19.08%\n",
      "peach:   \t14.35%\n",
      "tropical:   \t12.86%\n",
      "lemongrass:   \t5.2%\n",
      "--------\n",
      "\n"
     ]
    },
    {
     "data": {
      "text/html": [
       "<span style=\"background-color:rgba(135,206,250,0.6704145180949036);\">wine</span> <span style=\"background-color:rgba(135,206,250,0.7260702547354823);\">review</span> <span style=\"background-color:rgba(135,206,250,0.7135920166253765);\">|</span> <span style=\"background-color:rgba(135,206,250,0.18406772383471293);\">dry</span> <span style=\"background-color:rgba(135,206,250,0.09286328717089715);\">riesling</span> <span style=\"background-color:rgba(135,206,250,0.20436682130375403);\">from</span> <span style=\"background-color:rgba(135,206,250,0.3272812361974432);\">california</span> <span style=\"background-color:rgba(135,206,250,0.15177375028174417);\">,</span> <span style=\"background-color:rgba(135,206,250,0.1613219339112989);\">us</span> <span style=\"background-color:rgba(135,206,250,0.15074393055730786);\">:</span> <span style=\"background-color:rgba(135,206,250,0.21081289997738295);\">a</span> <span style=\"background-color:rgba(135,206,250,0.11792076007258388);\">nice</span> <span style=\"background-color:rgba(135,206,250,0.12122408317107002);\">everyday</span> <span style=\"background-color:rgba(135,206,250,0.11198540628234728);\">grigio</span> <span style=\"background-color:rgba(135,206,250,0.24236526621165105);\">,</span> <span style=\"background-color:rgba(135,206,250,0.6636868163888567);\">with</span> <span style=\"background-color:rgba(135,206,250,0.25778733107705437);\">pleasant</span> <span style=\"background-color:rgba(135,206,250,0.2168838931102869);\">citrus</span> <span style=\"background-color:rgba(135,206,250,1.0);\">,</span> <span style=\"background-color:rgba(135,206,250,0.17785796625194314);\">pear</span>"
      ],
      "text/plain": [
       "<IPython.core.display.HTML object>"
      ]
     },
     "metadata": {},
     "output_type": "display_data"
    },
    {
     "name": "stdout",
     "output_type": "stream",
     "text": [
      "and:   \t56.83%\n",
      ",:   \t43.17%\n",
      "fruit:   \t0.0%\n",
      "-:   \t0.0%\n",
      "flavors:   \t0.0%\n",
      "--------\n",
      "\n"
     ]
    },
    {
     "data": {
      "text/html": [
       "<span style=\"background-color:rgba(135,206,250,0.742598192676357);\">wine</span> <span style=\"background-color:rgba(135,206,250,0.4402813273750691);\">review</span> <span style=\"background-color:rgba(135,206,250,0.5058631207828796);\">|</span> <span style=\"background-color:rgba(135,206,250,0.36072314627906354);\">dry</span> <span style=\"background-color:rgba(135,206,250,0.2752544791521151);\">riesling</span> <span style=\"background-color:rgba(135,206,250,0.09295360239685191);\">from</span> <span style=\"background-color:rgba(135,206,250,0.24920661273584668);\">california</span> <span style=\"background-color:rgba(135,206,250,0.17206639528831677);\">,</span> <span style=\"background-color:rgba(135,206,250,0.17274617048742893);\">us</span> <span style=\"background-color:rgba(135,206,250,0.11577887672036517);\">:</span> <span style=\"background-color:rgba(135,206,250,0.12016013635409527);\">a</span> <span style=\"background-color:rgba(135,206,250,0.15683645469027463);\">nice</span> <span style=\"background-color:rgba(135,206,250,0.1732438798678956);\">everyday</span> <span style=\"background-color:rgba(135,206,250,0.09184569439828376);\">grigio</span> <span style=\"background-color:rgba(135,206,250,0.22891797330221011);\">,</span> <span style=\"background-color:rgba(135,206,250,0.2965656142650602);\">with</span> <span style=\"background-color:rgba(135,206,250,0.22405556276574226);\">pleasant</span> <span style=\"background-color:rgba(135,206,250,0.43444561906818024);\">citrus</span> <span style=\"background-color:rgba(135,206,250,0.774261254421746);\">,</span> <span style=\"background-color:rgba(135,206,250,1.0);\">pear</span> <span style=\"background-color:rgba(135,206,250,0.30108529141526946);\">and</span>"
      ],
      "text/plain": [
       "<IPython.core.display.HTML object>"
      ]
     },
     "metadata": {},
     "output_type": "display_data"
    },
    {
     "name": "stdout",
     "output_type": "stream",
     "text": [
      "spice:   \t28.29%\n",
      "white:   \t22.09%\n",
      "peach:   \t15.71%\n",
      "mineral:   \t6.16%\n",
      "vanilla:   \t5.59%\n",
      "--------\n",
      "\n"
     ]
    },
    {
     "data": {
      "text/html": [
       "<span style=\"background-color:rgba(135,206,250,0.6273309169102874);\">wine</span> <span style=\"background-color:rgba(135,206,250,0.6144133026743039);\">review</span> <span style=\"background-color:rgba(135,206,250,0.6901127886655398);\">|</span> <span style=\"background-color:rgba(135,206,250,0.16224940333599);\">dry</span> <span style=\"background-color:rgba(135,206,250,0.09596019093840372);\">riesling</span> <span style=\"background-color:rgba(135,206,250,0.16441476800039628);\">from</span> <span style=\"background-color:rgba(135,206,250,0.2607470567914016);\">california</span> <span style=\"background-color:rgba(135,206,250,0.15810476302026108);\">,</span> <span style=\"background-color:rgba(135,206,250,0.19582214562617922);\">us</span> <span style=\"background-color:rgba(135,206,250,0.16173489872919225);\">:</span> <span style=\"background-color:rgba(135,206,250,0.19197641703200322);\">a</span> <span style=\"background-color:rgba(135,206,250,0.10121002385669288);\">nice</span> <span style=\"background-color:rgba(135,206,250,0.13466792059767937);\">everyday</span> <span style=\"background-color:rgba(135,206,250,0.06578314451677443);\">grigio</span> <span style=\"background-color:rgba(135,206,250,0.17995286139702513);\">,</span> <span style=\"background-color:rgba(135,206,250,0.4849487328284257);\">with</span> <span style=\"background-color:rgba(135,206,250,0.16375490255186786);\">pleasant</span> <span style=\"background-color:rgba(135,206,250,0.1744817556047243);\">citrus</span> <span style=\"background-color:rgba(135,206,250,0.45575667416564974);\">,</span> <span style=\"background-color:rgba(135,206,250,0.2801449646609724);\">pear</span> <span style=\"background-color:rgba(135,206,250,1.0);\">and</span> <span style=\"background-color:rgba(135,206,250,0.25841035504999227);\">spice</span>"
      ],
      "text/plain": [
       "<IPython.core.display.HTML object>"
      ]
     },
     "metadata": {},
     "output_type": "display_data"
    },
    {
     "name": "stdout",
     "output_type": "stream",
     "text": [
      "flavors:   \t99.99%\n",
      ",:   \t0.0%\n",
      ".:   \t0.0%\n",
      "notes:   \t0.0%\n",
      "aromas:   \t0.0%\n",
      "--------\n",
      "\n"
     ]
    },
    {
     "data": {
      "text/html": [
       "<span style=\"background-color:rgba(135,206,250,1.0);\">wine</span> <span style=\"background-color:rgba(135,206,250,0.8991952948051019);\">review</span> <span style=\"background-color:rgba(135,206,250,0.8349264074308425);\">|</span> <span style=\"background-color:rgba(135,206,250,0.1326022262410834);\">dry</span> <span style=\"background-color:rgba(135,206,250,0.11896002542121288);\">riesling</span> <span style=\"background-color:rgba(135,206,250,0.15941251037261742);\">from</span> <span style=\"background-color:rgba(135,206,250,0.30498033433136085);\">california</span> <span style=\"background-color:rgba(135,206,250,0.1571888370073569);\">,</span> <span style=\"background-color:rgba(135,206,250,0.198237506484894);\">us</span> <span style=\"background-color:rgba(135,206,250,0.15636276272120933);\">:</span> <span style=\"background-color:rgba(135,206,250,0.14416243336784804);\">a</span> <span style=\"background-color:rgba(135,206,250,0.12351066992649953);\">nice</span> <span style=\"background-color:rgba(135,206,250,0.09799443943098295);\">everyday</span> <span style=\"background-color:rgba(135,206,250,0.0757057891414493);\">grigio</span> <span style=\"background-color:rgba(135,206,250,0.14341656345814174);\">,</span> <span style=\"background-color:rgba(135,206,250,0.5193364437976568);\">with</span> <span style=\"background-color:rgba(135,206,250,0.11399205308638115);\">pleasant</span> <span style=\"background-color:rgba(135,206,250,0.19171879571823494);\">citrus</span> <span style=\"background-color:rgba(135,206,250,0.2921871271587575);\">,</span> <span style=\"background-color:rgba(135,206,250,0.24225711153503598);\">pear</span> <span style=\"background-color:rgba(135,206,250,0.42487338659478696);\">and</span> <span style=\"background-color:rgba(135,206,250,0.5496437110344086);\">spice</span> <span style=\"background-color:rgba(135,206,250,0.3066826859434916);\">flavors</span>"
      ],
      "text/plain": [
       "<IPython.core.display.HTML object>"
      ]
     },
     "metadata": {},
     "output_type": "display_data"
    },
    {
     "name": "stdout",
     "output_type": "stream",
     "text": [
      ".:   \t87.77%\n",
      ",:   \t8.55%\n",
      "that:   \t3.53%\n",
      "and:   \t0.12%\n",
      "wrapped:   \t0.02%\n",
      "--------\n",
      "\n"
     ]
    },
    {
     "data": {
      "text/html": [
       "<span style=\"background-color:rgba(135,206,250,1.0);\">wine</span> <span style=\"background-color:rgba(135,206,250,0.5841827047779695);\">review</span> <span style=\"background-color:rgba(135,206,250,0.8751221897985906);\">|</span> <span style=\"background-color:rgba(135,206,250,0.20541966067880635);\">dry</span> <span style=\"background-color:rgba(135,206,250,0.2195455556032856);\">riesling</span> <span style=\"background-color:rgba(135,206,250,0.11280897500261514);\">from</span> <span style=\"background-color:rgba(135,206,250,0.4187930943457726);\">california</span> <span style=\"background-color:rgba(135,206,250,0.1691967592691271);\">,</span> <span style=\"background-color:rgba(135,206,250,0.2788900788605828);\">us</span> <span style=\"background-color:rgba(135,206,250,0.1043717817067976);\">:</span> <span style=\"background-color:rgba(135,206,250,0.08655471782969275);\">a</span> <span style=\"background-color:rgba(135,206,250,0.08140002784009098);\">nice</span> <span style=\"background-color:rgba(135,206,250,0.09968294800985979);\">everyday</span> <span style=\"background-color:rgba(135,206,250,0.048945663127029186);\">grigio</span> <span style=\"background-color:rgba(135,206,250,0.09770911753142011);\">,</span> <span style=\"background-color:rgba(135,206,250,0.12658080233896113);\">with</span> <span style=\"background-color:rgba(135,206,250,0.06908396939524698);\">pleasant</span> <span style=\"background-color:rgba(135,206,250,0.07915652722246069);\">citrus</span> <span style=\"background-color:rgba(135,206,250,0.12167226474385313);\">,</span> <span style=\"background-color:rgba(135,206,250,0.1267826450480217);\">pear</span> <span style=\"background-color:rgba(135,206,250,0.09786290001275594);\">and</span> <span style=\"background-color:rgba(135,206,250,0.09798249722336902);\">spice</span> <span style=\"background-color:rgba(135,206,250,0.20130820554709714);\">flavors</span> <span style=\"background-color:rgba(135,206,250,0.19846918849577921);\">.</span>"
      ],
      "text/plain": [
       "<IPython.core.display.HTML object>"
      ]
     },
     "metadata": {},
     "output_type": "display_data"
    },
    {
     "name": "stdout",
     "output_type": "stream",
     "text": [
      "<stop>:   \t96.29%\n",
      "it:   \t1.08%\n",
      "the:   \t0.45%\n",
      "with:   \t0.41%\n",
      "a:   \t0.31%\n",
      "--------\n",
      "\n"
     ]
    }
   ],
   "source": [
    "info = generate(model, \"wine review | dry riesling \", max_tokens=80, temperature=.5);\n",
    "print_probs(info, vocab)"
   ]
  }
 ],
 "metadata": {
  "kaggle": {
   "accelerator": "gpu",
   "dataSources": [
    {
     "datasetId": 1442,
     "sourceId": 8172,
     "sourceType": "datasetVersion"
    }
   ],
   "dockerImageVersionId": 30664,
   "isGpuEnabled": true,
   "isInternetEnabled": true,
   "language": "python",
   "sourceType": "notebook"
  },
  "kernelspec": {
   "display_name": "Python 3",
   "language": "python",
   "name": "python3"
  },
  "language_info": {
   "codemirror_mode": {
    "name": "ipython",
    "version": 3
   },
   "file_extension": ".py",
   "mimetype": "text/x-python",
   "name": "python",
   "nbconvert_exporter": "python",
   "pygments_lexer": "ipython3",
   "version": "3.10.13"
  },
  "papermill": {
   "default_parameters": {},
   "duration": 991.697306,
   "end_time": "2024-03-10T01:37:54.380741",
   "environment_variables": {},
   "exception": null,
   "input_path": "__notebook__.ipynb",
   "output_path": "__notebook__.ipynb",
   "parameters": {},
   "start_time": "2024-03-10T01:21:22.683435",
   "version": "2.5.0"
  }
 },
 "nbformat": 4,
 "nbformat_minor": 5
}
